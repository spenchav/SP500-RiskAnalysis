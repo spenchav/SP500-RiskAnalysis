{
 "cells": [
  {
   "cell_type": "code",
   "execution_count": 3,
   "metadata": {},
   "outputs": [],
   "source": [
    "# Import necessary modules\n",
    "import os\n",
    "import requests\n",
    "import pandas as pd\n",
    "from sqlalchemy import create_engine, text\n",
    "from dotenv import load_dotenv\n",
    "import time\n",
    "from pymysql.err import IntegrityError, OperationalError"
   ]
  },
  {
   "cell_type": "code",
   "execution_count": 4,
   "metadata": {},
   "outputs": [
    {
     "data": {
      "text/plain": [
       "True"
      ]
     },
     "execution_count": 4,
     "metadata": {},
     "output_type": "execute_result"
    }
   ],
   "source": [
    "# Load environment variables from .env\n",
    "load_dotenv()"
   ]
  },
  {
   "cell_type": "code",
   "execution_count": 5,
   "metadata": {},
   "outputs": [],
   "source": [
    "# Establish a database connection using SQLAlchemy and credentials from the .env file\n",
    "DB_USER = os.getenv('DB_USER')\n",
    "DB_PASSWORD = os.getenv('DB_PASSWORD')\n",
    "DB_HOST = os.getenv('DB_HOST')\n",
    "DB_PORT = os.getenv('DB_PORT')\n",
    "DB_NAME = os.getenv('DB_NAME')\n",
    "\n",
    "if None in (DB_USER, DB_PASSWORD, DB_HOST, DB_PORT, DB_NAME):\n",
    "    raise Exception(\"Database credentials are not fully set in the .env file.\")\n",
    "\n",
    "engine = create_engine(f'mysql+pymysql://{DB_USER}:{DB_PASSWORD}@{DB_HOST}:{DB_PORT}/{DB_NAME}')"
   ]
  },
  {
   "cell_type": "code",
   "execution_count": 6,
   "metadata": {},
   "outputs": [],
   "source": [
    "# --- Query tickers from raw_wikipedia_sp500 ---\n",
    "with engine.connect() as conn:\n",
    "    query_wiki = text(\"SELECT DISTINCT symbol FROM raw_wikipedia_sp500\")\n",
    "    df_wiki = pd.read_sql(query_wiki, conn)"
   ]
  },
  {
   "cell_type": "code",
   "execution_count": 7,
   "metadata": {},
   "outputs": [],
   "source": [
    "# Standardize ticker symbols: strip any extra whitespace and convert to uppercase\n",
    "df_wiki['symbol'] = df_wiki['symbol'].str.strip().str.upper()"
   ]
  },
  {
   "cell_type": "code",
   "execution_count": 8,
   "metadata": {},
   "outputs": [],
   "source": [
    "# --- Query tickers already in raw_prices ---\n",
    "with engine.connect() as conn:\n",
    "    query_prices = text(\"SELECT DISTINCT symbol FROM raw_prices\")\n",
    "    df_prices = pd.read_sql(query_prices, conn)\n",
    "\n",
    "if not df_prices.empty:\n",
    "    processed_tickers = set(df_prices['symbol'].str.strip().str.upper())\n",
    "else:\n",
    "    processed_tickers = set()\n",
    "\n",
    "all_tickers = set(df_wiki['symbol'])\n",
    "new_tickers = list(all_tickers - processed_tickers)\n",
    "new_tickers.sort()"
   ]
  },
  {
   "cell_type": "code",
   "execution_count": 13,
   "metadata": {},
   "outputs": [
    {
     "name": "stdout",
     "output_type": "stream",
     "text": [
      "Total tickers in Wikipedia table: 503\n",
      "Tickers already processed in raw_prices: 239\n",
      "New tickers to process in this batch: 50\n",
      "Tickers in current batch: ['BF.B', 'BRK.B', 'INTC', 'INTU', 'INVH', 'IP', 'IPG', 'IQV', 'IR', 'IRM', 'ISRG', 'IT', 'ITW', 'IVZ', 'J', 'JBHT', 'JBL', 'JCI', 'JKHY', 'JNJ', 'JNPR', 'JPM', 'K', 'KDP', 'KEY', 'KEYS', 'KHC', 'KIM', 'KKR', 'KLAC', 'KMB', 'KMI', 'KMX', 'KO', 'KR', 'KVUE', 'L', 'LDOS', 'LEN', 'LH', 'LHX', 'LII', 'LIN', 'LKQ', 'LLY', 'LMT', 'LNT', 'LOW', 'LRCX', 'LULU']\n"
     ]
    }
   ],
   "source": [
    "# Define batch size (e.g., 50 tickers per execution)\n",
    "batch_size = 50\n",
    "tickers_to_process = new_tickers[:batch_size]\n",
    "\n",
    "print(f\"Total tickers in Wikipedia table: {len(all_tickers)}\")\n",
    "print(f\"Tickers already processed in raw_prices: {len(processed_tickers)}\")\n",
    "print(f\"New tickers to process in this batch: {len(tickers_to_process)}\")\n",
    "print(\"Tickers in current batch:\", tickers_to_process)"
   ]
  },
  {
   "cell_type": "code",
   "execution_count": 10,
   "metadata": {},
   "outputs": [],
   "source": [
    "def get_eod_prices(symbol, start=\"2019-01-01\", end=None, resample_freq=\"daily\"):\n",
    "    \"\"\"\n",
    "    Fetch historical EOD price data for a given symbol from the Tiingo API.\n",
    "    Returns a DataFrame with columns: date, open, high, low, close, volume, symbol.\n",
    "    \"\"\"\n",
    "    TIINGO_KEY = os.getenv('TIINGO_KEY')\n",
    "    if not TIINGO_KEY:\n",
    "        raise Exception(\"TIINGO_KEY not set in the .env file.\")\n",
    "    \n",
    "    base_url = f\"https://api.tiingo.com/tiingo/daily/{symbol}/prices\"\n",
    "    params = {\n",
    "        'startDate': start,\n",
    "        'format': 'json',\n",
    "        'token': TIINGO_KEY,\n",
    "        'resampleFreq': resample_freq\n",
    "    }\n",
    "    if end:\n",
    "        params['endDate'] = end\n",
    "    \n",
    "    response = requests.get(base_url, params=params, timeout=30)\n",
    "    response.raise_for_status()\n",
    "    data = response.json()\n",
    "    if not data:\n",
    "        raise Exception(f\"No data returned from Tiingo for symbol: {symbol}\")\n",
    "    df = pd.DataFrame(data)\n",
    "    columns_to_keep = ['date', 'open', 'high', 'low', 'close', 'volume']\n",
    "    df = df[[col for col in columns_to_keep if col in df.columns]]\n",
    "    df['date'] = pd.to_datetime(df['date'])\n",
    "    for col in ['open', 'high', 'low', 'close']:\n",
    "        df[col] = pd.to_numeric(df[col], errors='coerce')\n",
    "    if 'volume' in df.columns:\n",
    "        df['volume'] = pd.to_numeric(df['volume'], errors='coerce')\n",
    "    df['symbol'] = symbol\n",
    "    df = df.sort_values('date').reset_index(drop=True)\n",
    "    return df\n"
   ]
  },
  {
   "cell_type": "code",
   "execution_count": 11,
   "metadata": {},
   "outputs": [
    {
     "name": "stdout",
     "output_type": "stream",
     "text": [
      "Processing symbol: BF.B\n",
      "Error processing symbol BF.B: 404 Client Error: Not Found for url: https://api.tiingo.com/tiingo/daily/BF.B/prices?startDate=2019-01-01&format=json&token=1d49fb68fdfff0ce472e9fd2909230f678bcb647&resampleFreq=daily\n",
      "Processing symbol: BRK.B\n",
      "Error processing symbol BRK.B: 404 Client Error: Not Found for url: https://api.tiingo.com/tiingo/daily/BRK.B/prices?startDate=2019-01-01&format=json&token=1d49fb68fdfff0ce472e9fd2909230f678bcb647&resampleFreq=daily\n",
      "Processing symbol: INTC\n",
      "Symbol INTC processed successfully.\n",
      "Processing symbol: INTU\n",
      "Symbol INTU processed successfully.\n",
      "Processing symbol: INVH\n",
      "Symbol INVH processed successfully.\n",
      "Processing symbol: IP\n",
      "Symbol IP processed successfully.\n",
      "Processing symbol: IPG\n",
      "Symbol IPG processed successfully.\n",
      "Processing symbol: IQV\n",
      "Symbol IQV processed successfully.\n",
      "Processing symbol: IR\n",
      "Symbol IR processed successfully.\n",
      "Processing symbol: IRM\n",
      "Symbol IRM processed successfully.\n",
      "Processing symbol: ISRG\n",
      "Symbol ISRG processed successfully.\n",
      "Processing symbol: IT\n",
      "Symbol IT processed successfully.\n",
      "Processing symbol: ITW\n",
      "Symbol ITW processed successfully.\n",
      "Processing symbol: IVZ\n",
      "Symbol IVZ processed successfully.\n",
      "Processing symbol: J\n",
      "Symbol J processed successfully.\n",
      "Processing symbol: JBHT\n",
      "Symbol JBHT processed successfully.\n",
      "Processing symbol: JBL\n",
      "Symbol JBL processed successfully.\n",
      "Processing symbol: JCI\n",
      "Symbol JCI processed successfully.\n",
      "Processing symbol: JKHY\n",
      "Symbol JKHY processed successfully.\n",
      "Processing symbol: JNJ\n",
      "Symbol JNJ processed successfully.\n",
      "Processing symbol: JNPR\n",
      "Symbol JNPR processed successfully.\n",
      "Processing symbol: JPM\n",
      "Symbol JPM processed successfully.\n",
      "Processing symbol: K\n",
      "Symbol K processed successfully.\n",
      "Processing symbol: KDP\n",
      "Symbol KDP processed successfully.\n",
      "Processing symbol: KEY\n",
      "Symbol KEY processed successfully.\n",
      "Processing symbol: KEYS\n",
      "Symbol KEYS processed successfully.\n",
      "Processing symbol: KHC\n",
      "Symbol KHC processed successfully.\n",
      "Processing symbol: KIM\n",
      "Symbol KIM processed successfully.\n",
      "Processing symbol: KKR\n",
      "Symbol KKR processed successfully.\n",
      "Processing symbol: KLAC\n",
      "Symbol KLAC processed successfully.\n",
      "Processing symbol: KMB\n",
      "Symbol KMB processed successfully.\n",
      "Processing symbol: KMI\n",
      "Symbol KMI processed successfully.\n",
      "Processing symbol: KMX\n",
      "Symbol KMX processed successfully.\n",
      "Processing symbol: KO\n",
      "Symbol KO processed successfully.\n",
      "Processing symbol: KR\n",
      "Symbol KR processed successfully.\n",
      "Processing symbol: KVUE\n",
      "Symbol KVUE processed successfully.\n",
      "Processing symbol: L\n",
      "Symbol L processed successfully.\n",
      "Processing symbol: LDOS\n",
      "Symbol LDOS processed successfully.\n",
      "Processing symbol: LEN\n",
      "Symbol LEN processed successfully.\n",
      "Processing symbol: LH\n",
      "Symbol LH processed successfully.\n",
      "Processing symbol: LHX\n",
      "Symbol LHX processed successfully.\n",
      "Processing symbol: LII\n",
      "Symbol LII processed successfully.\n",
      "Processing symbol: LIN\n",
      "Symbol LIN processed successfully.\n",
      "Processing symbol: LKQ\n",
      "Symbol LKQ processed successfully.\n",
      "Processing symbol: LLY\n",
      "Symbol LLY processed successfully.\n",
      "Processing symbol: LMT\n",
      "Symbol LMT processed successfully.\n",
      "Processing symbol: LNT\n",
      "Symbol LNT processed successfully.\n",
      "Processing symbol: LOW\n",
      "Symbol LOW processed successfully.\n",
      "Processing symbol: LRCX\n",
      "Symbol LRCX processed successfully.\n",
      "Processing symbol: LULU\n",
      "Symbol LULU processed successfully.\n",
      "Batch processing complete. Run this cell again after one hour for the next batch.\n"
     ]
    }
   ],
   "source": [
    "for symbol in tickers_to_process:\n",
    "    try:\n",
    "        print(f\"Processing symbol: {symbol}\")\n",
    "        df_symbol = get_eod_prices(symbol)\n",
    "        # Wrap the insertion in a transaction so that each is rolled back if an error occurs.\n",
    "        with engine.begin() as connection:\n",
    "            df_symbol.to_sql(name=\"raw_prices\", con=connection, if_exists=\"append\", index=False)\n",
    "        print(f\"Symbol {symbol} processed successfully.\")\n",
    "    except IntegrityError as ie:\n",
    "        # Duplicate entry (error code 1062) likely means data for those dates already exists.\n",
    "        if \"Duplicate entry\" in str(ie):\n",
    "            print(f\"Duplicate entry error for {symbol}. Skipping insertion.\")\n",
    "        else:\n",
    "            print(f\"IntegrityError processing symbol {symbol}: {ie}\")\n",
    "    except OperationalError as oe:\n",
    "        print(f\"OperationalError processing symbol {symbol}: {oe}\")\n",
    "    except Exception as e:\n",
    "        print(f\"Error processing symbol {symbol}: {e}\")\n",
    "    time.sleep(1)  # Delay between requests\n",
    "\n",
    "print(\"Batch processing complete. Run this cell again after one hour for the next batch.\")"
   ]
  }
 ],
 "metadata": {
  "kernelspec": {
   "display_name": "Python 3",
   "language": "python",
   "name": "python3"
  },
  "language_info": {
   "codemirror_mode": {
    "name": "ipython",
    "version": 3
   },
   "file_extension": ".py",
   "mimetype": "text/x-python",
   "name": "python",
   "nbconvert_exporter": "python",
   "pygments_lexer": "ipython3",
   "version": "3.13.2"
  }
 },
 "nbformat": 4,
 "nbformat_minor": 2
}
