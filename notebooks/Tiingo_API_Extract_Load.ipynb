{
 "cells": [
  {
   "cell_type": "code",
   "execution_count": 12,
   "metadata": {},
   "outputs": [],
   "source": [
    "# Import necessary modules\n",
    "import os\n",
    "import requests\n",
    "import pandas as pd\n",
    "from sqlalchemy import create_engine, text\n",
    "from dotenv import load_dotenv\n",
    "import time\n",
    "from pymysql.err import IntegrityError, OperationalError"
   ]
  },
  {
   "cell_type": "code",
   "execution_count": 13,
   "metadata": {},
   "outputs": [
    {
     "data": {
      "text/plain": [
       "True"
      ]
     },
     "execution_count": 13,
     "metadata": {},
     "output_type": "execute_result"
    }
   ],
   "source": [
    "# Load environment variables from .env\n",
    "load_dotenv()"
   ]
  },
  {
   "cell_type": "code",
   "execution_count": 14,
   "metadata": {},
   "outputs": [],
   "source": [
    "# Establish a database connection using SQLAlchemy and credentials from the .env file\n",
    "DB_USER = os.getenv('DB_USER')\n",
    "DB_PASSWORD = os.getenv('DB_PASSWORD')\n",
    "DB_HOST = os.getenv('DB_HOST')\n",
    "DB_PORT = os.getenv('DB_PORT')\n",
    "DB_NAME = os.getenv('DB_NAME')\n",
    "\n",
    "if None in (DB_USER, DB_PASSWORD, DB_HOST, DB_PORT, DB_NAME):\n",
    "    raise Exception(\"Database credentials are not fully set in the .env file.\")\n",
    "\n",
    "engine = create_engine(f'mysql+pymysql://{DB_USER}:{DB_PASSWORD}@{DB_HOST}:{DB_PORT}/{DB_NAME}')"
   ]
  },
  {
   "cell_type": "code",
   "execution_count": 15,
   "metadata": {},
   "outputs": [],
   "source": [
    "# --- Query tickers from raw_wikipedia_sp500 ---\n",
    "with engine.connect() as conn:\n",
    "    query_wiki = text(\"SELECT DISTINCT symbol FROM raw_wikipedia_sp500\")\n",
    "    df_wiki = pd.read_sql(query_wiki, conn)"
   ]
  },
  {
   "cell_type": "code",
   "execution_count": 16,
   "metadata": {},
   "outputs": [],
   "source": [
    "# Standardize ticker symbols: strip any extra whitespace and convert to uppercase\n",
    "df_wiki['symbol'] = df_wiki['symbol'].str.strip().str.upper()"
   ]
  },
  {
   "cell_type": "code",
   "execution_count": 17,
   "metadata": {},
   "outputs": [],
   "source": [
    "# --- Query tickers already in raw_prices ---\n",
    "with engine.connect() as conn:\n",
    "    query_prices = text(\"SELECT DISTINCT symbol FROM raw_prices\")\n",
    "    df_prices = pd.read_sql(query_prices, conn)\n",
    "\n",
    "if not df_prices.empty:\n",
    "    processed_tickers = set(df_prices['symbol'].str.strip().str.upper())\n",
    "else:\n",
    "    processed_tickers = set()\n",
    "\n",
    "all_tickers = set(df_wiki['symbol'])\n",
    "new_tickers = list(all_tickers - processed_tickers)\n",
    "new_tickers.sort()"
   ]
  },
  {
   "cell_type": "code",
   "execution_count": 18,
   "metadata": {},
   "outputs": [
    {
     "name": "stdout",
     "output_type": "stream",
     "text": [
      "Total tickers in Wikipedia table: 503\n",
      "Tickers already processed in raw_prices: 500\n",
      "New tickers to process in this batch: 3\n",
      "Tickers in current batch: ['ZBH', 'ZBRA', 'ZTS']\n"
     ]
    }
   ],
   "source": [
    "# Define batch size (e.g., 50 tickers per execution)\n",
    "batch_size = 50\n",
    "tickers_to_process = new_tickers[:batch_size]\n",
    "\n",
    "print(f\"Total tickers in Wikipedia table: {len(all_tickers)}\")\n",
    "print(f\"Tickers already processed in raw_prices: {len(processed_tickers)}\")\n",
    "print(f\"New tickers to process in this batch: {len(tickers_to_process)}\")\n",
    "print(\"Tickers in current batch:\", tickers_to_process)"
   ]
  },
  {
   "cell_type": "code",
   "execution_count": 8,
   "metadata": {},
   "outputs": [],
   "source": [
    "def get_eod_prices(symbol, start=\"2019-01-01\", end=None, resample_freq=\"daily\"):\n",
    "    \"\"\"\n",
    "    Fetch historical EOD price data for a given symbol from the Tiingo API.\n",
    "    Returns a DataFrame with columns: date, open, high, low, close, volume, symbol.\n",
    "    \"\"\"\n",
    "    TIINGO_KEY = os.getenv('TIINGO_KEY')\n",
    "    if not TIINGO_KEY:\n",
    "        raise Exception(\"TIINGO_KEY not set in the .env file.\")\n",
    "    \n",
    "    # Convert symbol format for Tiingo API (replace periods with hyphens)\n",
    "    tiingo_symbol = symbol.replace('.', '-')\n",
    "    \n",
    "    base_url = f\"https://api.tiingo.com/tiingo/daily/{tiingo_symbol}/prices\"\n",
    "    params = {\n",
    "        'startDate': start,\n",
    "        'format': 'json',\n",
    "        'token': TIINGO_KEY,\n",
    "        'resampleFreq': resample_freq\n",
    "    }\n",
    "    if end:\n",
    "        params['endDate'] = end\n",
    "    \n",
    "    response = requests.get(base_url, params=params, timeout=30)\n",
    "    response.raise_for_status()\n",
    "    data = response.json()\n",
    "    if not data:\n",
    "        raise Exception(f\"No data returned from Tiingo for symbol: {symbol}\")\n",
    "    df = pd.DataFrame(data)\n",
    "    columns_to_keep = ['date', 'open', 'high', 'low', 'close', 'volume']\n",
    "    df = df[[col for col in columns_to_keep if col in df.columns]]\n",
    "    df['date'] = pd.to_datetime(df['date'])\n",
    "    for col in ['open', 'high', 'low', 'close']:\n",
    "        df[col] = pd.to_numeric(df[col], errors='coerce')\n",
    "    if 'volume' in df.columns:\n",
    "        df['volume'] = pd.to_numeric(df['volume'], errors='coerce')\n",
    "    # Store the original symbol in the dataframe (not the Tiingo-formatted one)\n",
    "    df['symbol'] = symbol\n",
    "    df = df.sort_values('date').reset_index(drop=True)\n",
    "    return df"
   ]
  },
  {
   "cell_type": "code",
   "execution_count": 9,
   "metadata": {},
   "outputs": [
    {
     "name": "stdout",
     "output_type": "stream",
     "text": [
      "Processing symbol: BF.B\n",
      "Symbol BF.B processed successfully.\n",
      "Processing symbol: BRK.B\n",
      "Symbol BRK.B processed successfully.\n",
      "Processing symbol: WAT\n",
      "Symbol WAT processed successfully.\n",
      "Processing symbol: WBA\n",
      "Symbol WBA processed successfully.\n",
      "Processing symbol: WBD\n",
      "Symbol WBD processed successfully.\n",
      "Processing symbol: WDAY\n",
      "Symbol WDAY processed successfully.\n",
      "Processing symbol: WDC\n",
      "Symbol WDC processed successfully.\n",
      "Processing symbol: WEC\n",
      "Symbol WEC processed successfully.\n",
      "Processing symbol: WELL\n",
      "Symbol WELL processed successfully.\n",
      "Processing symbol: WFC\n",
      "Symbol WFC processed successfully.\n",
      "Processing symbol: WM\n",
      "Symbol WM processed successfully.\n",
      "Processing symbol: WMB\n",
      "Symbol WMB processed successfully.\n",
      "Processing symbol: WMT\n",
      "Symbol WMT processed successfully.\n",
      "Processing symbol: WRB\n",
      "Symbol WRB processed successfully.\n",
      "Processing symbol: WSM\n",
      "Symbol WSM processed successfully.\n",
      "Processing symbol: WST\n",
      "Symbol WST processed successfully.\n",
      "Processing symbol: WTW\n",
      "Symbol WTW processed successfully.\n",
      "Processing symbol: WY\n",
      "Symbol WY processed successfully.\n",
      "Processing symbol: WYNN\n",
      "Symbol WYNN processed successfully.\n",
      "Processing symbol: XEL\n",
      "Symbol XEL processed successfully.\n",
      "Processing symbol: XOM\n",
      "Symbol XOM processed successfully.\n",
      "Processing symbol: XYL\n",
      "Symbol XYL processed successfully.\n",
      "Processing symbol: YUM\n",
      "Symbol YUM processed successfully.\n",
      "Processing symbol: ZBH\n",
      "Error processing symbol ZBH: Expecting value: line 1 column 1 (char 0)\n",
      "Processing symbol: ZBRA\n",
      "Error processing symbol ZBRA: Expecting value: line 1 column 1 (char 0)\n",
      "Processing symbol: ZTS\n",
      "Error processing symbol ZTS: Expecting value: line 1 column 1 (char 0)\n",
      "Batch processing complete. Run this cell again after one hour for the next batch.\n"
     ]
    }
   ],
   "source": [
    "for symbol in tickers_to_process:\n",
    "    try:\n",
    "        print(f\"Processing symbol: {symbol}\")\n",
    "        df_symbol = get_eod_prices(symbol)\n",
    "        # Wrap the insertion in a transaction so that each is rolled back if an error occurs.\n",
    "        with engine.begin() as connection:\n",
    "            df_symbol.to_sql(name=\"raw_prices\", con=connection, if_exists=\"append\", index=False)\n",
    "        print(f\"Symbol {symbol} processed successfully.\")\n",
    "    except IntegrityError as ie:\n",
    "        # Duplicate entry (error code 1062) likely means data for those dates already exists.\n",
    "        if \"Duplicate entry\" in str(ie):\n",
    "            print(f\"Duplicate entry error for {symbol}. Skipping insertion.\")\n",
    "        else:\n",
    "            print(f\"IntegrityError processing symbol {symbol}: {ie}\")\n",
    "    except OperationalError as oe:\n",
    "        print(f\"OperationalError processing symbol {symbol}: {oe}\")\n",
    "    except Exception as e:\n",
    "        print(f\"Error processing symbol {symbol}: {e}\")\n",
    "    time.sleep(1)  # Delay between requests\n",
    "\n",
    "print(\"Batch processing complete. Run this cell again after one hour for the next batch.\")"
   ]
  }
 ],
 "metadata": {
  "kernelspec": {
   "display_name": "Python 3",
   "language": "python",
   "name": "python3"
  },
  "language_info": {
   "codemirror_mode": {
    "name": "ipython",
    "version": 3
   },
   "file_extension": ".py",
   "mimetype": "text/x-python",
   "name": "python",
   "nbconvert_exporter": "python",
   "pygments_lexer": "ipython3",
   "version": "3.12.2"
  }
 },
 "nbformat": 4,
 "nbformat_minor": 2
}
