{
 "cells": [
  {
   "cell_type": "code",
   "execution_count": 2,
   "metadata": {},
   "outputs": [],
   "source": [
    "# Import necessary modules\n",
    "import os\n",
    "import requests\n",
    "import pandas as pd\n",
    "from sqlalchemy import create_engine\n",
    "from dotenv import load_dotenv  # To load environment variables from the .env file"
   ]
  },
  {
   "cell_type": "code",
   "execution_count": 3,
   "metadata": {},
   "outputs": [
    {
     "data": {
      "text/plain": [
       "True"
      ]
     },
     "execution_count": 3,
     "metadata": {},
     "output_type": "execute_result"
    }
   ],
   "source": [
    "# Load environment variables from .env\n",
    "load_dotenv()"
   ]
  },
  {
   "cell_type": "code",
   "execution_count": 4,
   "metadata": {},
   "outputs": [],
   "source": [
    "# Read the Tiingo API key from the environment variables\n",
    "TIINGO_KEY = os.getenv('TIINGO_KEY')\n",
    "if TIINGO_KEY is None:\n",
    "    raise Exception(\"TIINGO_KEY not set in the .env file.\")"
   ]
  },
  {
   "cell_type": "code",
   "execution_count": 5,
   "metadata": {},
   "outputs": [],
   "source": [
    "def get_eod_prices(symbol, start=\"2019-01-01\", end=None, resample_freq=\"daily\"):\n",
    "    \"\"\"\n",
    "    Fetches historical end-of-day (EOD) stock price data for the provided symbol from the Tiingo API.\n",
    "    \n",
    "    Parameters:\n",
    "        symbol (str): The stock symbol to fetch data for (e.g., 'AAPL').\n",
    "        start (str): The start date for historical data in YYYY-MM-DD format.\n",
    "        end (str): The end date for historical data in YYYY-MM-DD format. If None, defaults to today.\n",
    "        resample_freq (str): Frequency for data resampling. Options include \"daily\", \"weekly\", \"monthly\".\n",
    "        \n",
    "    Returns:\n",
    "        pd.DataFrame: DataFrame containing the price data with the selected columns.\n",
    "    \"\"\"\n",
    "    # Construct the URL for Tiingo's historical price endpoint.\n",
    "    # Reference documentation: https://api.tiingo.com/documentation/end-of-day\n",
    "    base_url = f\"https://api.tiingo.com/tiingo/daily/{symbol}/prices\"\n",
    "    \n",
    "    params = {\n",
    "        'startDate': start,\n",
    "        'format': 'json',\n",
    "        'token': TIINGO_KEY,\n",
    "        'resampleFreq': resample_freq  # \"daily\" will return full daily data including holidays\n",
    "    }\n",
    "    \n",
    "    # Include the endDate parameter if provided\n",
    "    if end is not None:\n",
    "        params['endDate'] = end\n",
    "    \n",
    "    response = requests.get(base_url, params=params, timeout=30)\n",
    "    try:\n",
    "        response.raise_for_status()  # Will raise an HTTPError for a bad response (e.g., 403)\n",
    "    except requests.exceptions.HTTPError as http_err:\n",
    "        # Provide a more detailed error message\n",
    "        raise Exception(f\"HTTP error occurred for {symbol}: {http_err}\\nResponse text: {response.text}\") from http_err\n",
    "\n",
    "    data = response.json()\n",
    "    if not data:\n",
    "        raise Exception(f\"No data returned from Tiingo for symbol: {symbol}\")\n",
    "    \n",
    "    # Convert the JSON list of dictionaries into a DataFrame\n",
    "    df = pd.DataFrame(data)\n",
    "    \n",
    "    # Select only the necessary columns, if available\n",
    "    # Typical fields include: date, open, high, low, close, volume\n",
    "    columns_to_keep = ['date', 'open', 'high', 'low', 'close', 'volume']\n",
    "    # Sometimes additional columns may be returned – keep only those in columns_to_keep.\n",
    "    df = df[[col for col in columns_to_keep if col in df.columns]]\n",
    "    \n",
    "    # Convert data types: date to datetime and numeric fields to float/int\n",
    "    df['date'] = pd.to_datetime(df['date'])\n",
    "    for col in ['open', 'high', 'low', 'close']:\n",
    "        df[col] = pd.to_numeric(df[col], errors='coerce')\n",
    "    if 'volume' in df.columns:\n",
    "        df['volume'] = pd.to_numeric(df['volume'], errors='coerce')\n",
    "    \n",
    "    # Add a column to store the symbol if it is missing\n",
    "    df['symbol'] = symbol\n",
    "    \n",
    "    # Sort the DataFrame by date in ascending order\n",
    "    df = df.sort_values('date').reset_index(drop=True)\n",
    "    \n",
    "    return df"
   ]
  },
  {
   "cell_type": "code",
   "execution_count": 6,
   "metadata": {},
   "outputs": [],
   "source": [
    "# --- Development Mode ---\n",
    "# Set this flag to True to only fetch for one symbol during development to avoid exhausting your API calls.\n",
    "development_mode = True\n",
    "\n",
    "# Define the list of symbols to fetch. For development, you may keep it short.\n",
    "if development_mode:\n",
    "    symbols = [\"AAPL\"]  # Only one symbol during development\n",
    "else:\n",
    "    # Later, you might fetch for your full list, e.g. the S&P 500 or sector ETFs\n",
    "    symbols = [\"AAPL\", \"MSFT\", \"GOOG\"]  # Example; extend this list as needed."
   ]
  },
  {
   "cell_type": "code",
   "execution_count": 7,
   "metadata": {},
   "outputs": [],
   "source": [
    "# Establish a database connection using SQLAlchemy and credentials from the .env file\n",
    "DB_USER = os.getenv('DB_USER')\n",
    "DB_PASSWORD = os.getenv('DB_PASSWORD')\n",
    "DB_HOST = os.getenv('DB_HOST')\n",
    "DB_PORT = os.getenv('DB_PORT')\n",
    "DB_NAME = os.getenv('DB_NAME')\n",
    "\n",
    "if None in (DB_USER, DB_PASSWORD, DB_HOST, DB_PORT, DB_NAME):\n",
    "    raise Exception(\"Database credentials are not fully set in the .env file.\")"
   ]
  },
  {
   "cell_type": "code",
   "execution_count": 8,
   "metadata": {},
   "outputs": [],
   "source": [
    "engine = create_engine(f'mysql+pymysql://{DB_USER}:{DB_PASSWORD}@{DB_HOST}:{DB_PORT}/{DB_NAME}')"
   ]
  },
  {
   "cell_type": "code",
   "execution_count": 9,
   "metadata": {},
   "outputs": [
    {
     "name": "stdout",
     "output_type": "stream",
     "text": [
      "Fetching data for AAPL...\n",
      "Sample data for AAPL:\n",
      "                       date    open    high     low   close    volume symbol\n",
      "0 2019-01-02 00:00:00+00:00  154.89  158.85  154.23  157.92  37039737   AAPL\n",
      "1 2019-01-03 00:00:00+00:00  143.98  145.72  142.00  142.19  91312195   AAPL\n",
      "2 2019-01-04 00:00:00+00:00  144.53  148.55  143.80  148.26  58607070   AAPL\n",
      "3 2019-01-07 00:00:00+00:00  148.70  148.83  145.90  147.93  54777764   AAPL\n",
      "4 2019-01-08 00:00:00+00:00  149.56  151.82  148.52  150.75  41025314   AAPL\n",
      "Data for AAPL loaded successfully into 'raw_tiingo_prices' table.\n",
      "\n"
     ]
    }
   ],
   "source": [
    "# Loop over the symbols and fetch data, then load it into the MySQL table 'raw_tiingo_prices'\n",
    "for symbol in symbols:\n",
    "    try:\n",
    "        print(f\"Fetching data for {symbol}...\")\n",
    "        df = get_eod_prices(symbol)\n",
    "        print(f\"Sample data for {symbol}:\")\n",
    "        print(df.head())\n",
    "        \n",
    "        # Load the data into the MySQL table.\n",
    "        # Using if_exists='append' to accumulate data for multiple symbols.\n",
    "        df.to_sql(name='raw_tiingo_prices', con=engine, if_exists='append', index=False)\n",
    "        print(f\"Data for {symbol} loaded successfully into 'raw_tiingo_prices' table.\\n\")\n",
    "    except Exception as e:\n",
    "        print(f\"Error fetching or loading data for {symbol}: {e}\")"
   ]
  }
 ],
 "metadata": {
  "kernelspec": {
   "display_name": "Python 3",
   "language": "python",
   "name": "python3"
  },
  "language_info": {
   "codemirror_mode": {
    "name": "ipython",
    "version": 3
   },
   "file_extension": ".py",
   "mimetype": "text/x-python",
   "name": "python",
   "nbconvert_exporter": "python",
   "pygments_lexer": "ipython3",
   "version": "3.12.2"
  }
 },
 "nbformat": 4,
 "nbformat_minor": 2
}
