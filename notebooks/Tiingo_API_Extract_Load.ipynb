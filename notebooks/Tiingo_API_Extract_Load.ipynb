{
 "cells": [
  {
   "cell_type": "code",
   "execution_count": 10,
   "metadata": {},
   "outputs": [],
   "source": [
    "# Import necessary modules\n",
    "import os\n",
    "import requests\n",
    "import pandas as pd\n",
    "from sqlalchemy import create_engine, text\n",
    "from dotenv import load_dotenv\n",
    "import time\n",
    "from pymysql.err import IntegrityError, OperationalError"
   ]
  },
  {
   "cell_type": "code",
   "execution_count": 11,
   "metadata": {},
   "outputs": [
    {
     "data": {
      "text/plain": [
       "True"
      ]
     },
     "execution_count": 11,
     "metadata": {},
     "output_type": "execute_result"
    }
   ],
   "source": [
    "# Load environment variables from .env\n",
    "load_dotenv()"
   ]
  },
  {
   "cell_type": "code",
   "execution_count": 12,
   "metadata": {},
   "outputs": [],
   "source": [
    "# Establish a database connection using SQLAlchemy and credentials from the .env file\n",
    "DB_USER = os.getenv('DB_USER')\n",
    "DB_PASSWORD = os.getenv('DB_PASSWORD')\n",
    "DB_HOST = os.getenv('DB_HOST')\n",
    "DB_PORT = os.getenv('DB_PORT')\n",
    "DB_NAME = os.getenv('DB_NAME')\n",
    "\n",
    "if None in (DB_USER, DB_PASSWORD, DB_HOST, DB_PORT, DB_NAME):\n",
    "    raise Exception(\"Database credentials are not fully set in the .env file.\")\n",
    "\n",
    "engine = create_engine(f'mysql+pymysql://{DB_USER}:{DB_PASSWORD}@{DB_HOST}:{DB_PORT}/{DB_NAME}')"
   ]
  },
  {
   "cell_type": "code",
   "execution_count": 13,
   "metadata": {},
   "outputs": [],
   "source": [
    "# --- Query tickers from raw_wikipedia_sp500 ---\n",
    "with engine.connect() as conn:\n",
    "    query_wiki = text(\"SELECT DISTINCT symbol FROM raw_wikipedia_sp500\")\n",
    "    df_wiki = pd.read_sql(query_wiki, conn)"
   ]
  },
  {
   "cell_type": "code",
   "execution_count": 14,
   "metadata": {},
   "outputs": [],
   "source": [
    "# Standardize ticker symbols: strip any extra whitespace and convert to uppercase\n",
    "df_wiki['symbol'] = df_wiki['symbol'].str.strip().str.upper()"
   ]
  },
  {
   "cell_type": "code",
   "execution_count": 15,
   "metadata": {},
   "outputs": [],
   "source": [
    "# --- Query tickers already in raw_prices ---\n",
    "with engine.connect() as conn:\n",
    "    query_prices = text(\"SELECT DISTINCT symbol FROM raw_prices\")\n",
    "    df_prices = pd.read_sql(query_prices, conn)\n",
    "\n",
    "if not df_prices.empty:\n",
    "    processed_tickers = set(df_prices['symbol'].str.strip().str.upper())\n",
    "else:\n",
    "    processed_tickers = set()\n",
    "\n",
    "all_tickers = set(df_wiki['symbol'])\n",
    "new_tickers = list(all_tickers - processed_tickers)\n",
    "new_tickers.sort()"
   ]
  },
  {
   "cell_type": "code",
   "execution_count": 16,
   "metadata": {},
   "outputs": [
    {
     "name": "stdout",
     "output_type": "stream",
     "text": [
      "Total tickers in Wikipedia table: 503\n",
      "Tickers already processed in raw_prices: 335\n",
      "New tickers to process in this batch: 50\n",
      "Tickers in current batch: ['BF.B', 'BRK.B', 'NOC', 'NOW', 'NRG', 'NSC', 'NTAP', 'NTRS', 'NUE', 'NVDA', 'NVR', 'NWS', 'NWSA', 'NXPI', 'O', 'ODFL', 'OKE', 'OMC', 'ON', 'ORCL', 'ORLY', 'OTIS', 'OXY', 'PANW', 'PARA', 'PAYC', 'PAYX', 'PCAR', 'PCG', 'PEG', 'PEP', 'PFE', 'PFG', 'PG', 'PGR', 'PH', 'PHM', 'PKG', 'PLD', 'PLTR', 'PM', 'PNC', 'PNR', 'PNW', 'PODD', 'POOL', 'PPG', 'PPL', 'PRU', 'PSA']\n"
     ]
    }
   ],
   "source": [
    "# Define batch size (e.g., 50 tickers per execution)\n",
    "batch_size = 50\n",
    "tickers_to_process = new_tickers[:batch_size]\n",
    "\n",
    "print(f\"Total tickers in Wikipedia table: {len(all_tickers)}\")\n",
    "print(f\"Tickers already processed in raw_prices: {len(processed_tickers)}\")\n",
    "print(f\"New tickers to process in this batch: {len(tickers_to_process)}\")\n",
    "print(\"Tickers in current batch:\", tickers_to_process)"
   ]
  },
  {
   "cell_type": "code",
   "execution_count": 17,
   "metadata": {},
   "outputs": [],
   "source": [
    "def get_eod_prices(symbol, start=\"2019-01-01\", end=None, resample_freq=\"daily\"):\n",
    "    \"\"\"\n",
    "    Fetch historical EOD price data for a given symbol from the Tiingo API.\n",
    "    Returns a DataFrame with columns: date, open, high, low, close, volume, symbol.\n",
    "    \"\"\"\n",
    "    TIINGO_KEY = os.getenv('TIINGO_KEY')\n",
    "    if not TIINGO_KEY:\n",
    "        raise Exception(\"TIINGO_KEY not set in the .env file.\")\n",
    "    \n",
    "    base_url = f\"https://api.tiingo.com/tiingo/daily/{symbol}/prices\"\n",
    "    params = {\n",
    "        'startDate': start,\n",
    "        'format': 'json',\n",
    "        'token': TIINGO_KEY,\n",
    "        'resampleFreq': resample_freq\n",
    "    }\n",
    "    if end:\n",
    "        params['endDate'] = end\n",
    "    \n",
    "    response = requests.get(base_url, params=params, timeout=30)\n",
    "    response.raise_for_status()\n",
    "    data = response.json()\n",
    "    if not data:\n",
    "        raise Exception(f\"No data returned from Tiingo for symbol: {symbol}\")\n",
    "    df = pd.DataFrame(data)\n",
    "    columns_to_keep = ['date', 'open', 'high', 'low', 'close', 'volume']\n",
    "    df = df[[col for col in columns_to_keep if col in df.columns]]\n",
    "    df['date'] = pd.to_datetime(df['date'])\n",
    "    for col in ['open', 'high', 'low', 'close']:\n",
    "        df[col] = pd.to_numeric(df[col], errors='coerce')\n",
    "    if 'volume' in df.columns:\n",
    "        df['volume'] = pd.to_numeric(df['volume'], errors='coerce')\n",
    "    df['symbol'] = symbol\n",
    "    df = df.sort_values('date').reset_index(drop=True)\n",
    "    return df\n"
   ]
  },
  {
   "cell_type": "code",
   "execution_count": 18,
   "metadata": {},
   "outputs": [
    {
     "name": "stdout",
     "output_type": "stream",
     "text": [
      "Processing symbol: BF.B\n",
      "Error processing symbol BF.B: 404 Client Error: Not Found for url: https://api.tiingo.com/tiingo/daily/BF.B/prices?startDate=2019-01-01&format=json&token=1d49fb68fdfff0ce472e9fd2909230f678bcb647&resampleFreq=daily\n",
      "Processing symbol: BRK.B\n",
      "Error processing symbol BRK.B: 404 Client Error: Not Found for url: https://api.tiingo.com/tiingo/daily/BRK.B/prices?startDate=2019-01-01&format=json&token=1d49fb68fdfff0ce472e9fd2909230f678bcb647&resampleFreq=daily\n",
      "Processing symbol: NOC\n",
      "Symbol NOC processed successfully.\n",
      "Processing symbol: NOW\n",
      "Symbol NOW processed successfully.\n",
      "Processing symbol: NRG\n",
      "Symbol NRG processed successfully.\n",
      "Processing symbol: NSC\n",
      "Symbol NSC processed successfully.\n",
      "Processing symbol: NTAP\n",
      "Symbol NTAP processed successfully.\n",
      "Processing symbol: NTRS\n",
      "Symbol NTRS processed successfully.\n",
      "Processing symbol: NUE\n",
      "Symbol NUE processed successfully.\n",
      "Processing symbol: NVDA\n",
      "Symbol NVDA processed successfully.\n",
      "Processing symbol: NVR\n",
      "Symbol NVR processed successfully.\n",
      "Processing symbol: NWS\n",
      "Symbol NWS processed successfully.\n",
      "Processing symbol: NWSA\n",
      "Symbol NWSA processed successfully.\n",
      "Processing symbol: NXPI\n",
      "Symbol NXPI processed successfully.\n",
      "Processing symbol: O\n",
      "Symbol O processed successfully.\n",
      "Processing symbol: ODFL\n",
      "Symbol ODFL processed successfully.\n",
      "Processing symbol: OKE\n",
      "Symbol OKE processed successfully.\n",
      "Processing symbol: OMC\n",
      "Symbol OMC processed successfully.\n",
      "Processing symbol: ON\n",
      "Symbol ON processed successfully.\n",
      "Processing symbol: ORCL\n",
      "Symbol ORCL processed successfully.\n",
      "Processing symbol: ORLY\n",
      "Symbol ORLY processed successfully.\n",
      "Processing symbol: OTIS\n",
      "Symbol OTIS processed successfully.\n",
      "Processing symbol: OXY\n",
      "Symbol OXY processed successfully.\n",
      "Processing symbol: PANW\n",
      "Symbol PANW processed successfully.\n",
      "Processing symbol: PARA\n",
      "Symbol PARA processed successfully.\n",
      "Processing symbol: PAYC\n",
      "Symbol PAYC processed successfully.\n",
      "Processing symbol: PAYX\n",
      "Symbol PAYX processed successfully.\n",
      "Processing symbol: PCAR\n",
      "Symbol PCAR processed successfully.\n",
      "Processing symbol: PCG\n",
      "Symbol PCG processed successfully.\n",
      "Processing symbol: PEG\n",
      "Symbol PEG processed successfully.\n",
      "Processing symbol: PEP\n",
      "Symbol PEP processed successfully.\n",
      "Processing symbol: PFE\n",
      "Symbol PFE processed successfully.\n",
      "Processing symbol: PFG\n",
      "Symbol PFG processed successfully.\n",
      "Processing symbol: PG\n",
      "Symbol PG processed successfully.\n",
      "Processing symbol: PGR\n",
      "Symbol PGR processed successfully.\n",
      "Processing symbol: PH\n",
      "Symbol PH processed successfully.\n",
      "Processing symbol: PHM\n",
      "Symbol PHM processed successfully.\n",
      "Processing symbol: PKG\n",
      "Symbol PKG processed successfully.\n",
      "Processing symbol: PLD\n",
      "Symbol PLD processed successfully.\n",
      "Processing symbol: PLTR\n",
      "Symbol PLTR processed successfully.\n",
      "Processing symbol: PM\n",
      "Symbol PM processed successfully.\n",
      "Processing symbol: PNC\n",
      "Symbol PNC processed successfully.\n",
      "Processing symbol: PNR\n",
      "Symbol PNR processed successfully.\n",
      "Processing symbol: PNW\n",
      "Symbol PNW processed successfully.\n",
      "Processing symbol: PODD\n",
      "Symbol PODD processed successfully.\n",
      "Processing symbol: POOL\n",
      "Symbol POOL processed successfully.\n",
      "Processing symbol: PPG\n",
      "Symbol PPG processed successfully.\n",
      "Processing symbol: PPL\n",
      "Symbol PPL processed successfully.\n",
      "Processing symbol: PRU\n",
      "Symbol PRU processed successfully.\n",
      "Processing symbol: PSA\n",
      "Symbol PSA processed successfully.\n",
      "Batch processing complete. Run this cell again after one hour for the next batch.\n"
     ]
    }
   ],
   "source": [
    "for symbol in tickers_to_process:\n",
    "    try:\n",
    "        print(f\"Processing symbol: {symbol}\")\n",
    "        df_symbol = get_eod_prices(symbol)\n",
    "        # Wrap the insertion in a transaction so that each is rolled back if an error occurs.\n",
    "        with engine.begin() as connection:\n",
    "            df_symbol.to_sql(name=\"raw_prices\", con=connection, if_exists=\"append\", index=False)\n",
    "        print(f\"Symbol {symbol} processed successfully.\")\n",
    "    except IntegrityError as ie:\n",
    "        # Duplicate entry (error code 1062) likely means data for those dates already exists.\n",
    "        if \"Duplicate entry\" in str(ie):\n",
    "            print(f\"Duplicate entry error for {symbol}. Skipping insertion.\")\n",
    "        else:\n",
    "            print(f\"IntegrityError processing symbol {symbol}: {ie}\")\n",
    "    except OperationalError as oe:\n",
    "        print(f\"OperationalError processing symbol {symbol}: {oe}\")\n",
    "    except Exception as e:\n",
    "        print(f\"Error processing symbol {symbol}: {e}\")\n",
    "    time.sleep(1)  # Delay between requests\n",
    "\n",
    "print(\"Batch processing complete. Run this cell again after one hour for the next batch.\")"
   ]
  }
 ],
 "metadata": {
  "kernelspec": {
   "display_name": "Python 3",
   "language": "python",
   "name": "python3"
  },
  "language_info": {
   "codemirror_mode": {
    "name": "ipython",
    "version": 3
   },
   "file_extension": ".py",
   "mimetype": "text/x-python",
   "name": "python",
   "nbconvert_exporter": "python",
   "pygments_lexer": "ipython3",
   "version": "3.13.2"
  }
 },
 "nbformat": 4,
 "nbformat_minor": 2
}
