{
 "cells": [
  {
   "cell_type": "code",
   "execution_count": 29,
   "metadata": {},
   "outputs": [],
   "source": [
    "# Import necessary modules\n",
    "import os\n",
    "import requests\n",
    "import pandas as pd\n",
    "from sqlalchemy import create_engine, text\n",
    "from dotenv import load_dotenv\n",
    "import time\n",
    "from pymysql.err import IntegrityError, OperationalError"
   ]
  },
  {
   "cell_type": "code",
   "execution_count": 30,
   "metadata": {},
   "outputs": [
    {
     "data": {
      "text/plain": [
       "True"
      ]
     },
     "execution_count": 30,
     "metadata": {},
     "output_type": "execute_result"
    }
   ],
   "source": [
    "# Load environment variables from .env\n",
    "load_dotenv()"
   ]
  },
  {
   "cell_type": "code",
   "execution_count": 31,
   "metadata": {},
   "outputs": [],
   "source": [
    "# Establish a database connection using SQLAlchemy and credentials from the .env file\n",
    "DB_USER = os.getenv('DB_USER')\n",
    "DB_PASSWORD = os.getenv('DB_PASSWORD')\n",
    "DB_HOST = os.getenv('DB_HOST')\n",
    "DB_PORT = os.getenv('DB_PORT')\n",
    "DB_NAME = os.getenv('DB_NAME')\n",
    "\n",
    "if None in (DB_USER, DB_PASSWORD, DB_HOST, DB_PORT, DB_NAME):\n",
    "    raise Exception(\"Database credentials are not fully set in the .env file.\")\n",
    "\n",
    "engine = create_engine(f'mysql+pymysql://{DB_USER}:{DB_PASSWORD}@{DB_HOST}:{DB_PORT}/{DB_NAME}')"
   ]
  },
  {
   "cell_type": "code",
   "execution_count": 32,
   "metadata": {},
   "outputs": [],
   "source": [
    "# --- Query tickers from raw_wikipedia_sp500 ---\n",
    "with engine.connect() as conn:\n",
    "    query_wiki = text(\"SELECT DISTINCT symbol FROM raw_wikipedia_sp500\")\n",
    "    df_wiki = pd.read_sql(query_wiki, conn)"
   ]
  },
  {
   "cell_type": "code",
   "execution_count": 33,
   "metadata": {},
   "outputs": [],
   "source": [
    "# Standardize ticker symbols: strip any extra whitespace and convert to uppercase\n",
    "df_wiki['symbol'] = df_wiki['symbol'].str.strip().str.upper()"
   ]
  },
  {
   "cell_type": "code",
   "execution_count": 34,
   "metadata": {},
   "outputs": [],
   "source": [
    "# --- Query tickers already in raw_prices ---\n",
    "with engine.connect() as conn:\n",
    "    query_prices = text(\"SELECT DISTINCT symbol FROM raw_prices\")\n",
    "    df_prices = pd.read_sql(query_prices, conn)\n",
    "\n",
    "if not df_prices.empty:\n",
    "    processed_tickers = set(df_prices['symbol'].str.strip().str.upper())\n",
    "else:\n",
    "    processed_tickers = set()\n",
    "\n",
    "all_tickers = set(df_wiki['symbol'])\n",
    "new_tickers = list(all_tickers - processed_tickers)\n",
    "new_tickers.sort()"
   ]
  },
  {
   "cell_type": "code",
   "execution_count": 35,
   "metadata": {},
   "outputs": [
    {
     "name": "stdout",
     "output_type": "stream",
     "text": [
      "Total tickers in Wikipedia table: 503\n",
      "Tickers already processed in raw_prices: 51\n",
      "New tickers to process in this batch: 50\n",
      "Tickers in current batch: ['BAC', 'BALL', 'BAX', 'BBY', 'BDX', 'BEN', 'BF.B', 'BG', 'BIIB', 'BK', 'BKNG', 'BKR', 'BLDR', 'BLK', 'BMY', 'BR', 'BRK.B', 'BRO', 'BSX', 'BX', 'BXP', 'C', 'CAG', 'CAH', 'CARR', 'CAT', 'CB', 'CBOE', 'CBRE', 'CCI', 'CCL', 'CDNS', 'CDW', 'CEG', 'CF', 'CFG', 'CHD', 'CHRW', 'CHTR', 'CI', 'CINF', 'CL', 'CLX', 'CMCSA', 'CME', 'CMG', 'CMI', 'CMS', 'CNC', 'CNP']\n"
     ]
    }
   ],
   "source": [
    "# Define batch size (e.g., 50 tickers per execution)\n",
    "batch_size = 50\n",
    "tickers_to_process = new_tickers[:batch_size]\n",
    "\n",
    "print(f\"Total tickers in Wikipedia table: {len(all_tickers)}\")\n",
    "print(f\"Tickers already processed in raw_prices: {len(processed_tickers)}\")\n",
    "print(f\"New tickers to process in this batch: {len(tickers_to_process)}\")\n",
    "print(\"Tickers in current batch:\", tickers_to_process)"
   ]
  },
  {
   "cell_type": "code",
   "execution_count": 36,
   "metadata": {},
   "outputs": [],
   "source": [
    "def get_eod_prices(symbol, start=\"2019-01-01\", end=None, resample_freq=\"daily\"):\n",
    "    \"\"\"\n",
    "    Fetch historical EOD price data for a given symbol from the Tiingo API.\n",
    "    Returns a DataFrame with columns: date, open, high, low, close, volume, symbol.\n",
    "    \"\"\"\n",
    "    TIINGO_KEY = os.getenv('TIINGO_KEY')\n",
    "    if not TIINGO_KEY:\n",
    "        raise Exception(\"TIINGO_KEY not set in the .env file.\")\n",
    "    \n",
    "    base_url = f\"https://api.tiingo.com/tiingo/daily/{symbol}/prices\"\n",
    "    params = {\n",
    "        'startDate': start,\n",
    "        'format': 'json',\n",
    "        'token': TIINGO_KEY,\n",
    "        'resampleFreq': resample_freq\n",
    "    }\n",
    "    if end:\n",
    "        params['endDate'] = end\n",
    "    \n",
    "    response = requests.get(base_url, params=params, timeout=30)\n",
    "    response.raise_for_status()\n",
    "    data = response.json()\n",
    "    if not data:\n",
    "        raise Exception(f\"No data returned from Tiingo for symbol: {symbol}\")\n",
    "    df = pd.DataFrame(data)\n",
    "    columns_to_keep = ['date', 'open', 'high', 'low', 'close', 'volume']\n",
    "    df = df[[col for col in columns_to_keep if col in df.columns]]\n",
    "    df['date'] = pd.to_datetime(df['date'])\n",
    "    for col in ['open', 'high', 'low', 'close']:\n",
    "        df[col] = pd.to_numeric(df[col], errors='coerce')\n",
    "    if 'volume' in df.columns:\n",
    "        df['volume'] = pd.to_numeric(df['volume'], errors='coerce')\n",
    "    df['symbol'] = symbol\n",
    "    df = df.sort_values('date').reset_index(drop=True)\n",
    "    return df\n"
   ]
  },
  {
   "cell_type": "code",
   "execution_count": 37,
   "metadata": {},
   "outputs": [
    {
     "name": "stdout",
     "output_type": "stream",
     "text": [
      "Processing symbol: BAC\n",
      "Symbol BAC processed successfully.\n",
      "Processing symbol: BALL\n",
      "Symbol BALL processed successfully.\n",
      "Processing symbol: BAX\n",
      "Symbol BAX processed successfully.\n",
      "Processing symbol: BBY\n",
      "Symbol BBY processed successfully.\n",
      "Processing symbol: BDX\n",
      "Symbol BDX processed successfully.\n",
      "Processing symbol: BEN\n",
      "Symbol BEN processed successfully.\n",
      "Processing symbol: BF.B\n",
      "Error processing symbol BF.B: 404 Client Error: Not Found for url: https://api.tiingo.com/tiingo/daily/BF.B/prices?startDate=2019-01-01&format=json&token=1d49fb68fdfff0ce472e9fd2909230f678bcb647&resampleFreq=daily\n",
      "Processing symbol: BG\n",
      "Symbol BG processed successfully.\n",
      "Processing symbol: BIIB\n",
      "Symbol BIIB processed successfully.\n",
      "Processing symbol: BK\n",
      "Symbol BK processed successfully.\n",
      "Processing symbol: BKNG\n",
      "Symbol BKNG processed successfully.\n",
      "Processing symbol: BKR\n",
      "Symbol BKR processed successfully.\n",
      "Processing symbol: BLDR\n",
      "Symbol BLDR processed successfully.\n",
      "Processing symbol: BLK\n",
      "Symbol BLK processed successfully.\n",
      "Processing symbol: BMY\n",
      "Symbol BMY processed successfully.\n",
      "Processing symbol: BR\n",
      "Symbol BR processed successfully.\n",
      "Processing symbol: BRK.B\n",
      "Error processing symbol BRK.B: 404 Client Error: Not Found for url: https://api.tiingo.com/tiingo/daily/BRK.B/prices?startDate=2019-01-01&format=json&token=1d49fb68fdfff0ce472e9fd2909230f678bcb647&resampleFreq=daily\n",
      "Processing symbol: BRO\n",
      "Symbol BRO processed successfully.\n",
      "Processing symbol: BSX\n",
      "Symbol BSX processed successfully.\n",
      "Processing symbol: BX\n",
      "Symbol BX processed successfully.\n",
      "Processing symbol: BXP\n",
      "Symbol BXP processed successfully.\n",
      "Processing symbol: C\n",
      "Symbol C processed successfully.\n",
      "Processing symbol: CAG\n",
      "Symbol CAG processed successfully.\n",
      "Processing symbol: CAH\n",
      "Symbol CAH processed successfully.\n",
      "Processing symbol: CARR\n",
      "Symbol CARR processed successfully.\n",
      "Processing symbol: CAT\n",
      "Symbol CAT processed successfully.\n",
      "Processing symbol: CB\n",
      "Symbol CB processed successfully.\n",
      "Processing symbol: CBOE\n",
      "Symbol CBOE processed successfully.\n",
      "Processing symbol: CBRE\n",
      "Symbol CBRE processed successfully.\n",
      "Processing symbol: CCI\n",
      "Symbol CCI processed successfully.\n",
      "Processing symbol: CCL\n",
      "Symbol CCL processed successfully.\n",
      "Processing symbol: CDNS\n",
      "Symbol CDNS processed successfully.\n",
      "Processing symbol: CDW\n",
      "Symbol CDW processed successfully.\n",
      "Processing symbol: CEG\n",
      "Symbol CEG processed successfully.\n",
      "Processing symbol: CF\n",
      "Symbol CF processed successfully.\n",
      "Processing symbol: CFG\n",
      "Symbol CFG processed successfully.\n",
      "Processing symbol: CHD\n",
      "Symbol CHD processed successfully.\n",
      "Processing symbol: CHRW\n",
      "Symbol CHRW processed successfully.\n",
      "Processing symbol: CHTR\n",
      "Symbol CHTR processed successfully.\n",
      "Processing symbol: CI\n",
      "Symbol CI processed successfully.\n",
      "Processing symbol: CINF\n",
      "Symbol CINF processed successfully.\n",
      "Processing symbol: CL\n",
      "Symbol CL processed successfully.\n",
      "Processing symbol: CLX\n",
      "Symbol CLX processed successfully.\n",
      "Processing symbol: CMCSA\n",
      "Symbol CMCSA processed successfully.\n",
      "Processing symbol: CME\n",
      "Symbol CME processed successfully.\n",
      "Processing symbol: CMG\n",
      "Symbol CMG processed successfully.\n",
      "Processing symbol: CMI\n",
      "Error processing symbol CMI: 429 Client Error: Too Many Requests for url: https://api.tiingo.com/tiingo/daily/CMI/prices?startDate=2019-01-01&format=json&token=1d49fb68fdfff0ce472e9fd2909230f678bcb647&resampleFreq=daily\n",
      "Processing symbol: CMS\n",
      "Error processing symbol CMS: 429 Client Error: Too Many Requests for url: https://api.tiingo.com/tiingo/daily/CMS/prices?startDate=2019-01-01&format=json&token=1d49fb68fdfff0ce472e9fd2909230f678bcb647&resampleFreq=daily\n",
      "Processing symbol: CNC\n",
      "Error processing symbol CNC: 429 Client Error: Too Many Requests for url: https://api.tiingo.com/tiingo/daily/CNC/prices?startDate=2019-01-01&format=json&token=1d49fb68fdfff0ce472e9fd2909230f678bcb647&resampleFreq=daily\n",
      "Processing symbol: CNP\n",
      "Error processing symbol CNP: 429 Client Error: Too Many Requests for url: https://api.tiingo.com/tiingo/daily/CNP/prices?startDate=2019-01-01&format=json&token=1d49fb68fdfff0ce472e9fd2909230f678bcb647&resampleFreq=daily\n",
      "Batch processing complete. Run this cell again after one hour for the next batch.\n"
     ]
    }
   ],
   "source": [
    "for symbol in tickers_to_process:\n",
    "    try:\n",
    "        print(f\"Processing symbol: {symbol}\")\n",
    "        df_symbol = get_eod_prices(symbol)\n",
    "        # Wrap the insertion in a transaction so that each is rolled back if an error occurs.\n",
    "        with engine.begin() as connection:\n",
    "            df_symbol.to_sql(name=\"raw_prices\", con=connection, if_exists=\"append\", index=False)\n",
    "        print(f\"Symbol {symbol} processed successfully.\")\n",
    "    except IntegrityError as ie:\n",
    "        # Duplicate entry (error code 1062) likely means data for those dates already exists.\n",
    "        if \"Duplicate entry\" in str(ie):\n",
    "            print(f\"Duplicate entry error for {symbol}. Skipping insertion.\")\n",
    "        else:\n",
    "            print(f\"IntegrityError processing symbol {symbol}: {ie}\")\n",
    "    except OperationalError as oe:\n",
    "        print(f\"OperationalError processing symbol {symbol}: {oe}\")\n",
    "    except Exception as e:\n",
    "        print(f\"Error processing symbol {symbol}: {e}\")\n",
    "    time.sleep(1)  # Delay between requests\n",
    "\n",
    "print(\"Batch processing complete. Run this cell again after one hour for the next batch.\")"
   ]
  }
 ],
 "metadata": {
  "kernelspec": {
   "display_name": "Python 3",
   "language": "python",
   "name": "python3"
  },
  "language_info": {
   "codemirror_mode": {
    "name": "ipython",
    "version": 3
   },
   "file_extension": ".py",
   "mimetype": "text/x-python",
   "name": "python",
   "nbconvert_exporter": "python",
   "pygments_lexer": "ipython3",
   "version": "3.12.2"
  }
 },
 "nbformat": 4,
 "nbformat_minor": 2
}
