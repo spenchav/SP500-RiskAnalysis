{
 "cells": [
  {
   "cell_type": "code",
   "execution_count": 5,
   "metadata": {},
   "outputs": [
    {
     "name": "stdout",
     "output_type": "stream",
     "text": [
      "Attempting to load .env from: ..\\.env\n",
      ".env loaded: True\n",
      "Database credentials loaded successfully.\n",
      "Database connection successful!\n"
     ]
    }
   ],
   "source": [
    "# Import necessary modules\n",
    "import os\n",
    "import pandas as pd\n",
    "from sqlalchemy import create_engine, text\n",
    "from dotenv import load_dotenv\n",
    "\n",
    "# Load environment variables from .env file\n",
    "# Ensure the .env file is in the parent directory or specify the path if elsewhere\n",
    "dotenv_path = os.path.join(os.path.dirname('__file__'), '..', '.env') # Assumes .env is one level up\n",
    "load_dotenv(dotenv_path=dotenv_path)\n",
    "print(f\"Attempting to load .env from: {dotenv_path}\") # Debugging print\n",
    "print(f\".env loaded: {load_dotenv(dotenv_path=dotenv_path)}\") # Check if loading was successful\n",
    "\n",
    "# Establish database connection using credentials from environment variables\n",
    "DB_USER = os.getenv('DB_USER')\n",
    "DB_PASSWORD = os.getenv('DB_PASSWORD')\n",
    "DB_HOST = os.getenv('DB_HOST')\n",
    "DB_PORT = os.getenv('DB_PORT')\n",
    "DB_NAME = os.getenv('DB_NAME')\n",
    "\n",
    "# Check if all necessary variables are loaded\n",
    "if None in (DB_USER, DB_PASSWORD, DB_HOST, DB_PORT, DB_NAME):\n",
    "    # Print which variables are missing for debugging\n",
    "    missing_vars = [var for var, val in {'DB_USER': DB_USER, 'DB_PASSWORD': DB_PASSWORD, 'DB_HOST': DB_HOST, 'DB_PORT': DB_PORT, 'DB_NAME': DB_NAME}.items() if val is None]\n",
    "    raise Exception(f\"Database credentials not fully set. Missing: {', '.join(missing_vars)}\")\n",
    "\n",
    "print(\"Database credentials loaded successfully.\") # Confirmation\n",
    "\n",
    "try:\n",
    "    # Create SQLAlchemy engine\n",
    "    conn_string = f'mysql+pymysql://{DB_USER}:{DB_PASSWORD}@{DB_HOST}:{DB_PORT}/{DB_NAME}'\n",
    "    engine = create_engine(conn_string)\n",
    "    # Test connection\n",
    "    with engine.connect() as connection:\n",
    "        print(\"Database connection successful!\")\n",
    "except Exception as e:\n",
    "    print(f\"Database connection failed: {e}\")\n",
    "    raise\n",
    "\n",
    "# Set pandas display options (optional, you already have this later)\n",
    "pd.set_option('display.max_rows', None)"
   ]
  },
  {
   "cell_type": "markdown",
   "metadata": {},
   "source": [
    "# Descriptive Analytics Query (API Data)"
   ]
  },
  {
   "cell_type": "markdown",
   "metadata": {},
   "source": [
    "### Business Question:\n",
    "What are the average daily return and volatility (standard deviation) for each GICS sector over the past year, as computed from API data?"
   ]
  },
  {
   "cell_type": "code",
   "execution_count": 6,
   "metadata": {},
   "outputs": [],
   "source": [
    "# Descriptive Analytics Query for API Data\n",
    "sql_query = '''\n",
    "WITH daily_returns AS (\n",
    "  SELECT\n",
    "    a.symbol,\n",
    "    a.date,\n",
    "    a.adj_close,\n",
    "    -- Get the previous day's adjusted closing price for the same symbol\n",
    "    LAG(a.adj_close, 1) OVER (PARTITION BY a.symbol ORDER BY a.date) AS prev_adj_close\n",
    "  FROM stg_tiingo_api a\n",
    "  WHERE a.date >= DATE_SUB(CURDATE(), INTERVAL 1 YEAR)\n",
    "),\n",
    "-- Calculate return based on adjusted close-to-close change\n",
    "close_to_close_returns AS (\n",
    "    SELECT\n",
    "        symbol,\n",
    "        date,\n",
    "        -- Calculate return, handle division by zero if prev_adj_close is 0 or NULL\n",
    "        CASE\n",
    "            WHEN prev_adj_close IS NOT NULL AND prev_adj_close != 0 \n",
    "            THEN (adj_close - prev_adj_close) / prev_adj_close\n",
    "            ELSE NULL\n",
    "        END AS daily_return\n",
    "    FROM daily_returns\n",
    "    WHERE prev_adj_close IS NOT NULL\n",
    ")\n",
    "SELECT\n",
    "  s.gics_sector,\n",
    "  AVG(dr.daily_return) AS avg_daily_return,\n",
    "  STDDEV(dr.daily_return) AS return_volatility,\n",
    "  ROW_NUMBER() OVER (ORDER BY AVG(dr.daily_return) DESC) AS sector_rank\n",
    "FROM close_to_close_returns dr\n",
    "JOIN dim_symbol s ON dr.symbol = s.symbol\n",
    "GROUP BY s.gics_sector\n",
    "ORDER BY sector_rank;\n",
    "'''"
   ]
  },
  {
   "cell_type": "code",
   "execution_count": 7,
   "metadata": {},
   "outputs": [
    {
     "data": {
      "text/html": [
       "<div>\n",
       "<style scoped>\n",
       "    .dataframe tbody tr th:only-of-type {\n",
       "        vertical-align: middle;\n",
       "    }\n",
       "\n",
       "    .dataframe tbody tr th {\n",
       "        vertical-align: top;\n",
       "    }\n",
       "\n",
       "    .dataframe thead th {\n",
       "        text-align: right;\n",
       "    }\n",
       "</style>\n",
       "<table border=\"1\" class=\"dataframe\">\n",
       "  <thead>\n",
       "    <tr style=\"text-align: right;\">\n",
       "      <th></th>\n",
       "      <th>gics_sector</th>\n",
       "      <th>avg_daily_return</th>\n",
       "      <th>return_volatility</th>\n",
       "      <th>sector_rank</th>\n",
       "    </tr>\n",
       "  </thead>\n",
       "  <tbody>\n",
       "    <tr>\n",
       "      <th>0</th>\n",
       "      <td>Utilities</td>\n",
       "      <td>0.000753</td>\n",
       "      <td>0.019330</td>\n",
       "      <td>1</td>\n",
       "    </tr>\n",
       "    <tr>\n",
       "      <th>1</th>\n",
       "      <td>Communication Services</td>\n",
       "      <td>0.000678</td>\n",
       "      <td>0.019926</td>\n",
       "      <td>2</td>\n",
       "    </tr>\n",
       "    <tr>\n",
       "      <th>2</th>\n",
       "      <td>Financials</td>\n",
       "      <td>0.000515</td>\n",
       "      <td>0.018344</td>\n",
       "      <td>3</td>\n",
       "    </tr>\n",
       "    <tr>\n",
       "      <th>3</th>\n",
       "      <td>Real Estate</td>\n",
       "      <td>0.000214</td>\n",
       "      <td>0.015821</td>\n",
       "      <td>4</td>\n",
       "    </tr>\n",
       "    <tr>\n",
       "      <th>4</th>\n",
       "      <td>Industrials</td>\n",
       "      <td>0.000082</td>\n",
       "      <td>0.020833</td>\n",
       "      <td>5</td>\n",
       "    </tr>\n",
       "    <tr>\n",
       "      <th>5</th>\n",
       "      <td>Consumer Discretionary</td>\n",
       "      <td>-0.000166</td>\n",
       "      <td>0.027503</td>\n",
       "      <td>6</td>\n",
       "    </tr>\n",
       "    <tr>\n",
       "      <th>6</th>\n",
       "      <td>Consumer Staples</td>\n",
       "      <td>-0.000219</td>\n",
       "      <td>0.018373</td>\n",
       "      <td>7</td>\n",
       "    </tr>\n",
       "    <tr>\n",
       "      <th>7</th>\n",
       "      <td>Health Care</td>\n",
       "      <td>-0.000291</td>\n",
       "      <td>0.020572</td>\n",
       "      <td>8</td>\n",
       "    </tr>\n",
       "    <tr>\n",
       "      <th>8</th>\n",
       "      <td>Information Technology</td>\n",
       "      <td>-0.000412</td>\n",
       "      <td>0.032174</td>\n",
       "      <td>9</td>\n",
       "    </tr>\n",
       "    <tr>\n",
       "      <th>9</th>\n",
       "      <td>Energy</td>\n",
       "      <td>-0.000429</td>\n",
       "      <td>0.021383</td>\n",
       "      <td>10</td>\n",
       "    </tr>\n",
       "    <tr>\n",
       "      <th>10</th>\n",
       "      <td>Materials</td>\n",
       "      <td>-0.000582</td>\n",
       "      <td>0.020011</td>\n",
       "      <td>11</td>\n",
       "    </tr>\n",
       "  </tbody>\n",
       "</table>\n",
       "</div>"
      ],
      "text/plain": [
       "               gics_sector  avg_daily_return  return_volatility  sector_rank\n",
       "0                Utilities          0.000753           0.019330            1\n",
       "1   Communication Services          0.000678           0.019926            2\n",
       "2               Financials          0.000515           0.018344            3\n",
       "3              Real Estate          0.000214           0.015821            4\n",
       "4              Industrials          0.000082           0.020833            5\n",
       "5   Consumer Discretionary         -0.000166           0.027503            6\n",
       "6         Consumer Staples         -0.000219           0.018373            7\n",
       "7              Health Care         -0.000291           0.020572            8\n",
       "8   Information Technology         -0.000412           0.032174            9\n",
       "9                   Energy         -0.000429           0.021383           10\n",
       "10               Materials         -0.000582           0.020011           11"
      ]
     },
     "execution_count": 7,
     "metadata": {},
     "output_type": "execute_result"
    }
   ],
   "source": [
    "api_results = pd.read_sql(sql_query, engine)\n",
    "api_results\n"
   ]
  },
  {
   "cell_type": "markdown",
   "metadata": {},
   "source": [
    "### Analysis:\n",
    "*   **Insight:**\n",
    "*   **Recommendation:** \n",
    "*   **Prediction:** "
   ]
  },
  {
   "cell_type": "markdown",
   "metadata": {},
   "source": [
    "# Diagnostic Analytics Query (API Data)"
   ]
  },
  {
   "cell_type": "markdown",
   "metadata": {},
   "source": [
    "### Business Question:\n",
    "Why are certain sectors experiencing higher return volatility? Are there specific months where volatility significantly deviates from the overall average for that sector?"
   ]
  },
  {
   "cell_type": "code",
   "execution_count": 3,
   "metadata": {},
   "outputs": [],
   "source": [
    "# Diagnostic Analytics Query for API Data\n",
    "sql_query = '''\n",
    "WITH daily_returns AS (\n",
    "  SELECT\n",
    "    a.symbol,\n",
    "    a.date,\n",
    "    ((a.close - a.open) / a.open) AS daily_return\n",
    "  FROM stg_tiingo_api a\n",
    "  WHERE a.date >= DATE_SUB(CURDATE(), INTERVAL 1 YEAR)\n",
    "),\n",
    "returns_by_month AS (\n",
    "  SELECT \n",
    "         s.gics_sector,\n",
    "         d.year,\n",
    "         d.month,\n",
    "         AVG(dr.daily_return) AS avg_return,\n",
    "         STDDEV(dr.daily_return) AS volatility\n",
    "  FROM daily_returns dr\n",
    "  JOIN dim_symbol s ON dr.symbol = s.symbol\n",
    "  JOIN dim_date d ON dr.date = d.trade_date\n",
    "  GROUP BY s.gics_sector, d.year, d.month\n",
    "),\n",
    "overall_avg AS (\n",
    "   SELECT AVG(volatility) AS overall_avg_volatility \n",
    "   FROM returns_by_month\n",
    ")\n",
    "SELECT\n",
    "    rbm.gics_sector,\n",
    "    rbm.year,\n",
    "    rbm.month,\n",
    "    rbm.avg_return,\n",
    "    rbm.volatility,\n",
    "    RANK() OVER (PARTITION BY rbm.gics_sector ORDER BY rbm.volatility DESC) AS vol_rank\n",
    "FROM returns_by_month rbm\n",
    "JOIN overall_avg oa ON 1=1\n",
    "WHERE rbm.volatility > oa.overall_avg_volatility\n",
    "ORDER BY rbm.gics_sector, rbm.year, rbm.month;\n",
    "'''\n"
   ]
  },
  {
   "cell_type": "code",
   "execution_count": 4,
   "metadata": {},
   "outputs": [
    {
     "ename": "NameError",
     "evalue": "name 'conn' is not defined",
     "output_type": "error",
     "traceback": [
      "\u001b[31m---------------------------------------------------------------------------\u001b[39m",
      "\u001b[31mNameError\u001b[39m                                 Traceback (most recent call last)",
      "\u001b[36mCell\u001b[39m\u001b[36m \u001b[39m\u001b[32mIn[4]\u001b[39m\u001b[32m, line 2\u001b[39m\n\u001b[32m      1\u001b[39m \u001b[38;5;66;03m# Execute diagnostic query for API data\u001b[39;00m\n\u001b[32m----> \u001b[39m\u001b[32m2\u001b[39m api_diag_results = pd.read_sql(sql_query, \u001b[43mconn\u001b[49m)\n\u001b[32m      3\u001b[39m api_diag_results\n",
      "\u001b[31mNameError\u001b[39m: name 'conn' is not defined"
     ]
    }
   ],
   "source": [
    "# Execute diagnostic query for API data\n",
    "api_diag_results = pd.read_sql(sql_query, engine)\n",
    "api_diag_results"
   ]
  },
  {
   "cell_type": "markdown",
   "metadata": {},
   "source": [
    "### Analysis:\n",
    "*   **Insight:** \n",
    "*   **Recommendation:** \n",
    "*   **Prediction:** "
   ]
  }
 ],
 "metadata": {
  "kernelspec": {
   "display_name": "Python 3",
   "language": "python",
   "name": "python3"
  },
  "language_info": {
   "codemirror_mode": {
    "name": "ipython",
    "version": 3
   },
   "file_extension": ".py",
   "mimetype": "text/x-python",
   "name": "python",
   "nbconvert_exporter": "python",
   "pygments_lexer": "ipython3",
   "version": "3.13.2"
  }
 },
 "nbformat": 4,
 "nbformat_minor": 2
}
