{
 "cells": [
  {
   "cell_type": "code",
   "execution_count": 6,
   "metadata": {},
   "outputs": [
    {
     "name": "stdout",
     "output_type": "stream",
     "text": [
      "Defaulting to user installation because normal site-packages is not writeable\n",
      "Requirement already satisfied: firecrawl in c:\\users\\spenc\\appdata\\roaming\\python\\python313\\site-packages (1.15.0)\n",
      "Requirement already satisfied: requests in c:\\users\\spenc\\appdata\\roaming\\python\\python313\\site-packages (from firecrawl) (2.32.3)\n",
      "Requirement already satisfied: python-dotenv in c:\\users\\spenc\\appdata\\roaming\\python\\python313\\site-packages (from firecrawl) (1.1.0)\n",
      "Requirement already satisfied: websockets in c:\\users\\spenc\\appdata\\roaming\\python\\python313\\site-packages (from firecrawl) (15.0.1)\n",
      "Requirement already satisfied: nest-asyncio in c:\\users\\spenc\\appdata\\roaming\\python\\python313\\site-packages (from firecrawl) (1.6.0)\n",
      "Requirement already satisfied: pydantic>=2.10.3 in c:\\users\\spenc\\appdata\\roaming\\python\\python313\\site-packages (from firecrawl) (2.11.3)\n",
      "Requirement already satisfied: annotated-types>=0.6.0 in c:\\users\\spenc\\appdata\\roaming\\python\\python313\\site-packages (from pydantic>=2.10.3->firecrawl) (0.7.0)\n",
      "Requirement already satisfied: pydantic-core==2.33.1 in c:\\users\\spenc\\appdata\\roaming\\python\\python313\\site-packages (from pydantic>=2.10.3->firecrawl) (2.33.1)\n",
      "Requirement already satisfied: typing-extensions>=4.12.2 in c:\\users\\spenc\\appdata\\roaming\\python\\python313\\site-packages (from pydantic>=2.10.3->firecrawl) (4.13.1)\n",
      "Requirement already satisfied: typing-inspection>=0.4.0 in c:\\users\\spenc\\appdata\\roaming\\python\\python313\\site-packages (from pydantic>=2.10.3->firecrawl) (0.4.0)\n",
      "Requirement already satisfied: charset-normalizer<4,>=2 in c:\\users\\spenc\\appdata\\roaming\\python\\python313\\site-packages (from requests->firecrawl) (3.4.1)\n",
      "Requirement already satisfied: idna<4,>=2.5 in c:\\users\\spenc\\appdata\\roaming\\python\\python313\\site-packages (from requests->firecrawl) (3.10)\n",
      "Requirement already satisfied: urllib3<3,>=1.21.1 in c:\\users\\spenc\\appdata\\roaming\\python\\python313\\site-packages (from requests->firecrawl) (2.3.0)\n",
      "Requirement already satisfied: certifi>=2017.4.17 in c:\\users\\spenc\\appdata\\roaming\\python\\python313\\site-packages (from requests->firecrawl) (2025.1.31)\n",
      "Defaulting to user installation because normal site-packages is not writeable\n",
      "Requirement already satisfied: pymysql in c:\\users\\spenc\\appdata\\roaming\\python\\python313\\site-packages (1.1.1)\n",
      "Defaulting to user installation because normal site-packages is not writeable\n",
      "Requirement already satisfied: python-dotenv in c:\\users\\spenc\\appdata\\roaming\\python\\python313\\site-packages (1.1.0)\n",
      "Defaulting to user installation because normal site-packages is not writeable\n",
      "Requirement already satisfied: pandas in c:\\users\\spenc\\appdata\\roaming\\python\\python313\\site-packages (2.2.3)\n",
      "Requirement already satisfied: numpy>=1.26.0 in c:\\users\\spenc\\appdata\\roaming\\python\\python313\\site-packages (from pandas) (2.2.4)\n",
      "Requirement already satisfied: python-dateutil>=2.8.2 in c:\\users\\spenc\\appdata\\roaming\\python\\python313\\site-packages (from pandas) (2.9.0.post0)\n",
      "Requirement already satisfied: pytz>=2020.1 in c:\\users\\spenc\\appdata\\roaming\\python\\python313\\site-packages (from pandas) (2025.2)\n",
      "Requirement already satisfied: tzdata>=2022.7 in c:\\users\\spenc\\appdata\\roaming\\python\\python313\\site-packages (from pandas) (2025.2)\n",
      "Requirement already satisfied: six>=1.5 in c:\\users\\spenc\\appdata\\roaming\\python\\python313\\site-packages (from python-dateutil>=2.8.2->pandas) (1.17.0)\n"
     ]
    }
   ],
   "source": [
    "# Install necessary packages if not already installed\n",
    "!pip install firecrawl\n",
    "!pip install pymysql\n",
    "!pip install python-dotenv\n",
    "!pip install pandas"
   ]
  },
  {
   "cell_type": "code",
   "execution_count": 7,
   "metadata": {},
   "outputs": [],
   "source": [
    "# Import necessary modules\n",
    "import os\n",
    "import pandas as pd\n",
    "from sqlalchemy import create_engine\n",
    "from dotenv import load_dotenv\n",
    "from firecrawl import FirecrawlApp"
   ]
  },
  {
   "cell_type": "code",
   "execution_count": null,
   "metadata": {},
   "outputs": [],
   "source": [
    "# Load environment variables from .env (data base credentials)\n",
    "load_dotenv()"
   ]
  },
  {
   "cell_type": "code",
   "execution_count": null,
   "metadata": {},
   "outputs": [],
   "source": [
    "# Read the Firecrawl API key from the environment variables\n",
    "FIRECRAWL_API_KEY = os.getenv(\"FIRECRAWL_API_KEY\")\n",
    "if FIRECRAWL_API_KEY is None:\n",
    "    raise Exception(\"FIRECRAWL_API_KEY not set in the .env file.\")"
   ]
  }
 ],
 "metadata": {
  "kernelspec": {
   "display_name": "Python 3",
   "language": "python",
   "name": "python3"
  },
  "language_info": {
   "codemirror_mode": {
    "name": "ipython",
    "version": 3
   },
   "file_extension": ".py",
   "mimetype": "text/x-python",
   "name": "python",
   "nbconvert_exporter": "python",
   "pygments_lexer": "ipython3",
   "version": "3.13.2"
  }
 },
 "nbformat": 4,
 "nbformat_minor": 2
}
