{
 "cells": [
  {
   "cell_type": "code",
   "execution_count": 22,
   "metadata": {},
   "outputs": [],
   "source": [
    "# Import necessary modules\n",
    "import os\n",
    "import requests\n",
    "import pandas as pd\n",
    "from sqlalchemy import create_engine\n",
    "from dotenv import load_dotenv  # To load environment variables from the .env file"
   ]
  },
  {
   "cell_type": "code",
   "execution_count": 23,
   "metadata": {},
   "outputs": [
    {
     "data": {
      "text/plain": [
       "True"
      ]
     },
     "execution_count": 23,
     "metadata": {},
     "output_type": "execute_result"
    }
   ],
   "source": [
    "# Load environment variables from .env\n",
    "load_dotenv()"
   ]
  },
  {
   "cell_type": "code",
   "execution_count": 24,
   "metadata": {},
   "outputs": [],
   "source": [
    "# Read the API key from the environment variables\n",
    "ALPHAVANTAGE_KEY = os.getenv('ALPHAVANTAGE_KEY')\n",
    "if ALPHAVANTAGE_KEY is None:\n",
    "    raise Exception(\"ALPHAVANTAGE_KEY not set in the .env file.\")"
   ]
  },
  {
   "cell_type": "code",
   "execution_count": 33,
   "metadata": {},
   "outputs": [],
   "source": [
    "def get_daily_prices(symbol):\n",
    "    \"\"\"\n",
    "    Fetches daily time series data for the provided symbol from AlphaVantage API.\n",
    "    \n",
    "    Parameters:\n",
    "        symbol (str): The stock symbol to fetch data for (e.g., 'AAPL').\n",
    "        \n",
    "    Returns:\n",
    "        pd.DataFrame: DataFrame containing the time series data with dates and prices.\n",
    "    \"\"\"\n",
    "    url = \"https://www.alphavantage.co/query\"\n",
    "    params = {\n",
    "        'function': 'TIME_SERIES_DAILY',  # Changed from TIME_SERIES_DAILY_ADJUSTED\n",
    "        'symbol': symbol,\n",
    "        'outputsize': 'compact',  # Returns the latest 100 data points\n",
    "        'apikey': ALPHAVANTAGE_KEY\n",
    "    }\n",
    "    response = requests.get(url, params=params)\n",
    "    response.raise_for_status()\n",
    "    data = response.json()\n",
    "    \n",
    "    # Print the actual response to help debug\n",
    "    print(\"API Response Keys:\", data.keys())\n",
    "    \n",
    "    # Check if there's an error message\n",
    "    if \"Error Message\" in data:\n",
    "        raise Exception(f\"API Error: {data['Error Message']}\")\n",
    "    \n",
    "    # Check if we're being rate limited\n",
    "    if \"Note\" in data:\n",
    "        raise Exception(f\"API Note: {data['Note']}\")\n",
    "    \n",
    "    # The key for daily data is \"Time Series (Daily)\"\n",
    "    time_series = data.get(\"Time Series (Daily)\")\n",
    "    if not time_series:\n",
    "        raise Exception(f\"No time series data returned from API for symbol: {symbol}\")\n",
    "    \n",
    "    return time_series"
   ]
  },
  {
   "cell_type": "code",
   "execution_count": 34,
   "metadata": {},
   "outputs": [
    {
     "name": "stdout",
     "output_type": "stream",
     "text": [
      "API Response Keys: dict_keys(['Meta Data', 'Time Series (Daily)'])\n",
      "\n",
      "Success! First few dates:\n",
      "[('2025-04-07', {'1. open': '177.2000', '2. high': '194.1500', '3. low': '174.6200', '4. close': '181.4600', '5. volume': '160466286'}), ('2025-04-04', {'1. open': '193.8900', '2. high': '199.8800', '3. low': '187.3400', '4. close': '188.3800', '5. volume': '125910913'}), ('2025-04-03', {'1. open': '205.5400', '2. high': '207.4900', '3. low': '201.2500', '4. close': '203.1900', '5. volume': '103419006'})]\n"
     ]
    }
   ],
   "source": [
    "# Try the API call again\n",
    "symbol = \"AAPL\"\n",
    "try:\n",
    "    time_series = get_daily_prices(symbol)\n",
    "    print(\"\\nSuccess! First few dates:\")\n",
    "    print(list(time_series.items())[:3])\n",
    "except Exception as e:\n",
    "    print(f\"Error: {e}\")"
   ]
  }
 ],
 "metadata": {
  "kernelspec": {
   "display_name": "Python 3",
   "language": "python",
   "name": "python3"
  },
  "language_info": {
   "codemirror_mode": {
    "name": "ipython",
    "version": 3
   },
   "file_extension": ".py",
   "mimetype": "text/x-python",
   "name": "python",
   "nbconvert_exporter": "python",
   "pygments_lexer": "ipython3",
   "version": "3.12.2"
  }
 },
 "nbformat": 4,
 "nbformat_minor": 2
}
