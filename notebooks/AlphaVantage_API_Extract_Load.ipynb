{
 "cells": [
  {
   "cell_type": "code",
   "execution_count": 3,
   "metadata": {},
   "outputs": [],
   "source": [
    "# Import necessary modules\n",
    "import os\n",
    "import requests\n",
    "import pandas as pd\n",
    "from sqlalchemy import create_engine\n",
    "from dotenv import load_dotenv  # To load environment variables from the .env file"
   ]
  },
  {
   "cell_type": "code",
   "execution_count": 4,
   "metadata": {},
   "outputs": [
    {
     "data": {
      "text/plain": [
       "True"
      ]
     },
     "execution_count": 4,
     "metadata": {},
     "output_type": "execute_result"
    }
   ],
   "source": [
    "# Load environment variables from .env\n",
    "load_dotenv()"
   ]
  },
  {
   "cell_type": "code",
   "execution_count": 5,
   "metadata": {},
   "outputs": [],
   "source": [
    "# Read the API key from the environment variables\n",
    "ALPHAVANTAGE_KEY = os.getenv('ALPHAVANTAGE_KEY')\n",
    "if ALPHAVANTAGE_KEY is None:\n",
    "    raise Exception(\"ALPHAVANTAGE_KEY not set in the .env file.\")"
   ]
  },
  {
   "cell_type": "code",
   "execution_count": 6,
   "metadata": {},
   "outputs": [
    {
     "name": "stdout",
     "output_type": "stream",
     "text": [
      "Sample data for AAPL\n",
      "              open    high      low   close    volume\n",
      "2024-11-11  225.00  225.70  221.500  224.23  42005602\n",
      "2024-11-12  224.55  225.59  223.355  224.23  40398299\n",
      "2024-11-13  224.01  226.65  222.760  225.12  48566217\n",
      "2024-11-14  225.02  228.87  225.000  228.22  44923941\n",
      "2024-11-15  226.40  226.92  224.270  225.00  47923696\n"
     ]
    }
   ],
   "source": [
    "def get_daily_prices(symbol):\n",
    "    \"\"\"\n",
    "    Fetches daily time series data for the provided symbol from AlphaVantage API.\n",
    "    \n",
    "    Parameters:\n",
    "        symbol (str): The stock symbol to fetch data for (e.g., 'AAPL').\n",
    "        \n",
    "    Returns:\n",
    "        pd.DataFrame: DataFrame containing the time series data with dates and prices.\n",
    "    \"\"\"\n",
    "    url = \"https://www.alphavantage.co/query\"\n",
    "    params = {\n",
    "        'function': 'TIME_SERIES_DAILY',\n",
    "        'symbol': symbol,\n",
    "        'outputsize': 'compact',  # Returns the latest 100 data points\n",
    "        'apikey': ALPHAVANTAGE_KEY\n",
    "    }\n",
    "    response = requests.get(url, params=params)\n",
    "    response.raise_for_status()\n",
    "    data = response.json()\n",
    "    \n",
    "    # Check if there's an error message\n",
    "    if \"Error Message\" in data:\n",
    "        raise Exception(f\"API Error: {data['Error Message']}\")\n",
    "    \n",
    "    # Check if we're being rate limited\n",
    "    if \"Note\" in data:\n",
    "        raise Exception(f\"API Note: {data['Note']}\")\n",
    "    \n",
    "    # The key for daily data is \"Time Series (Daily)\"\n",
    "    time_series = data.get(\"Time Series (Daily)\")\n",
    "    if not time_series:\n",
    "        raise Exception(f\"No time series data returned from API for symbol: {symbol}\")\n",
    "    \n",
    "    # Convert the dictionary to a DataFrame\n",
    "    df = pd.DataFrame.from_dict(time_series, orient='index')\n",
    "    \n",
    "    # Clean up column names by removing the prefix numbers\n",
    "    df.columns = ['open', 'high', 'low', 'close', 'volume']\n",
    "    \n",
    "    # Convert string values to numeric\n",
    "    for col in ['open', 'high', 'low', 'close']:\n",
    "        df[col] = pd.to_numeric(df[col])\n",
    "    df['volume'] = pd.to_numeric(df['volume'])\n",
    "    \n",
    "    # Make sure the index is datetime\n",
    "    df.index = pd.to_datetime(df.index)\n",
    "    \n",
    "    # Sort index in ascending order (oldest to newest)\n",
    "    df = df.sort_index()\n",
    "    \n",
    "    return df\n",
    "\n",
    "# Try the API call again\n",
    "symbol = \"AAPL\"\n",
    "try:\n",
    "    df = get_daily_prices(symbol)\n",
    "    print(\"Sample data for\", symbol)\n",
    "    print(df.head())\n",
    "except Exception as e:\n",
    "    print(f\"Error: {e}\")"
   ]
  },
  {
   "cell_type": "code",
   "execution_count": 7,
   "metadata": {},
   "outputs": [
    {
     "name": "stdout",
     "output_type": "stream",
     "text": [
      "Sample data for AAPL\n",
      "              open    high      low   close    volume\n",
      "2024-11-11  225.00  225.70  221.500  224.23  42005602\n",
      "2024-11-12  224.55  225.59  223.355  224.23  40398299\n",
      "2024-11-13  224.01  226.65  222.760  225.12  48566217\n",
      "2024-11-14  225.02  228.87  225.000  228.22  44923941\n",
      "2024-11-15  226.40  226.92  224.270  225.00  47923696\n"
     ]
    }
   ],
   "source": [
    "# Example usage: Fetch data for a sample symbol (e.g., AAPL)\n",
    "symbol = 'AAPL'\n",
    "df = get_daily_prices(symbol)\n",
    "print(\"Sample data for\", symbol)\n",
    "print(df.head())"
   ]
  },
  {
   "cell_type": "code",
   "execution_count": 8,
   "metadata": {},
   "outputs": [],
   "source": [
    "# Establish a database connection using SQLAlchemy and credentials from the .env file\n",
    "DB_USER = os.getenv('DB_USER')\n",
    "DB_PASSWORD = os.getenv('DB_PASSWORD')\n",
    "DB_HOST = os.getenv('DB_HOST')\n",
    "DB_PORT = os.getenv('DB_PORT')\n",
    "DB_NAME = os.getenv('DB_NAME')\n",
    "\n",
    "if None in (DB_USER, DB_PASSWORD, DB_HOST, DB_PORT, DB_NAME):\n",
    "    raise Exception(\"Database credentials are not fully set in the .env file.\")"
   ]
  },
  {
   "cell_type": "code",
   "execution_count": 14,
   "metadata": {},
   "outputs": [],
   "source": [
    "engine = create_engine(f'mysql+pymysql://{DB_USER}:{DB_PASSWORD}@{DB_HOST}:{DB_PORT}/{DB_NAME}')"
   ]
  },
  {
   "cell_type": "code",
   "execution_count": 16,
   "metadata": {},
   "outputs": [
    {
     "name": "stdout",
     "output_type": "stream",
     "text": [
      "Data loaded successfully into 'raw_alpha_vantage_prices' table.\n"
     ]
    }
   ],
   "source": [
    "# Write the DataFrame to a MySQL table named 'raw_alpha_vantage_prices'\n",
    "# if_exists='replace' ensures the table is replaced every time you run the notebook (adjust as needed)\n",
    "df.to_sql(name='raw_alpha_vantage_prices', con=engine, if_exists='replace', index=False)\n",
    "\n",
    "print(\"Data loaded successfully into 'raw_alpha_vantage_prices' table.\")"
   ]
  }
 ],
 "metadata": {
  "kernelspec": {
   "display_name": "Python 3",
   "language": "python",
   "name": "python3"
  },
  "language_info": {
   "codemirror_mode": {
    "name": "ipython",
    "version": 3
   },
   "file_extension": ".py",
   "mimetype": "text/x-python",
   "name": "python",
   "nbconvert_exporter": "python",
   "pygments_lexer": "ipython3",
   "version": "3.12.2"
  }
 },
 "nbformat": 4,
 "nbformat_minor": 2
}
