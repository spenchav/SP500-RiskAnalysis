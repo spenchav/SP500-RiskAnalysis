{
 "cells": [
  {
   "cell_type": "code",
   "execution_count": 8,
   "metadata": {},
   "outputs": [],
   "source": [
    "# Import necessary modules\n",
    "import os\n",
    "import requests\n",
    "import pandas as pd\n",
    "from sqlalchemy import create_engine\n",
    "from dotenv import load_dotenv  # To load environment variables from the .env file"
   ]
  },
  {
   "cell_type": "code",
   "execution_count": null,
   "metadata": {},
   "outputs": [],
   "source": [
    "# Load environment variables from .env\n",
    "load_dotenv()"
   ]
  },
  {
   "cell_type": "code",
   "execution_count": null,
   "metadata": {},
   "outputs": [],
   "source": [
    "# Read the API key from the environment variables\n",
    "ALPHAVANTAGE_KEY = os.getenv('ALPHAVANTAGE_KEY')\n",
    "if ALPHAVANTAGE_KEY is None:\n",
    "    raise Exception(\"ALPHAVANTAGE_KEY not set in the .env file.\")"
   ]
  },
  {
   "cell_type": "code",
   "execution_count": null,
   "metadata": {},
   "outputs": [],
   "source": [
    "# Define a function to fetch daily adjusted time series data from AlphaVantage API for a given symbol\n",
    "def get_daily_prices(symbol):\n",
    "    \"\"\"\n",
    "    Fetches daily adjusted time series data for the provided symbol from AlphaVantage API.\n",
    "    \n",
    "    Parameters:\n",
    "        symbol (str): The stock symbol to fetch data for (e.g., 'AAPL').\n",
    "        \n",
    "    Returns:\n",
    "        pd.DataFrame: DataFrame containing the time series data with dates and prices.\n",
    "    \"\"\"\n",
    "    url = \"https://www.alphavantage.co/query\"\n",
    "    params = {\n",
    "        'function': 'TIME_SERIES_DAILY_ADJUSTED',\n",
    "        'symbol': symbol,\n",
    "        'outputsize': 'compact',  # 'compact' returns the latest 100 data points; use 'full' for full history\n",
    "        'apikey': ALPHAVANTAGE_KEY\n",
    "    }\n",
    "    response = requests.get(url, params=params)\n",
    "    response.raise_for_status()  # Raise an exception for HTTP errors\n",
    "    data = response.json()"
   ]
  }
 ],
 "metadata": {
  "kernelspec": {
   "display_name": "Python 3",
   "language": "python",
   "name": "python3"
  },
  "language_info": {
   "codemirror_mode": {
    "name": "ipython",
    "version": 3
   },
   "file_extension": ".py",
   "mimetype": "text/x-python",
   "name": "python",
   "nbconvert_exporter": "python",
   "pygments_lexer": "ipython3",
   "version": "3.12.2"
  }
 },
 "nbformat": 4,
 "nbformat_minor": 2
}
