{
 "cells": [
  {
   "cell_type": "code",
   "execution_count": 80,
   "metadata": {},
   "outputs": [
    {
     "name": "stdout",
     "output_type": "stream",
     "text": [
      "Attempting to load .env from: ..\\.env\n",
      ".env loaded: True\n",
      "Database credentials loaded successfully.\n",
      "Database connection successful!\n"
     ]
    }
   ],
   "source": [
    "# Import necessary modules\n",
    "import os\n",
    "import pandas as pd\n",
    "from sqlalchemy import create_engine, text\n",
    "from dotenv import load_dotenv\n",
    "\n",
    "# Load environment variables from .env file\n",
    "# Ensure the .env file is in the parent directory or specify the path if elsewhere\n",
    "dotenv_path = os.path.join(os.path.dirname('__file__'), '..', '.env') # Assumes .env is one level up\n",
    "load_dotenv(dotenv_path=dotenv_path)\n",
    "print(f\"Attempting to load .env from: {dotenv_path}\") # Debugging print\n",
    "print(f\".env loaded: {load_dotenv(dotenv_path=dotenv_path)}\") # Check if loading was successful\n",
    "\n",
    "# Establish database connection using credentials from environment variables\n",
    "DB_USER = os.getenv('DB_USER')\n",
    "DB_PASSWORD = os.getenv('DB_PASSWORD')\n",
    "DB_HOST = os.getenv('DB_HOST')\n",
    "DB_PORT = os.getenv('DB_PORT')\n",
    "DB_NAME = os.getenv('DB_NAME')\n",
    "\n",
    "# Check if all necessary variables are loaded\n",
    "if None in (DB_USER, DB_PASSWORD, DB_HOST, DB_PORT, DB_NAME):\n",
    "    # Print which variables are missing for debugging\n",
    "    missing_vars = [var for var, val in {'DB_USER': DB_USER, 'DB_PASSWORD': DB_PASSWORD, 'DB_HOST': DB_HOST, 'DB_PORT': DB_PORT, 'DB_NAME': DB_NAME}.items() if val is None]\n",
    "    raise Exception(f\"Database credentials not fully set. Missing: {', '.join(missing_vars)}\")\n",
    "\n",
    "print(\"Database credentials loaded successfully.\") # Confirmation\n",
    "\n",
    "try:\n",
    "    # Create SQLAlchemy engine\n",
    "    conn_string = f'mysql+pymysql://{DB_USER}:{DB_PASSWORD}@{DB_HOST}:{DB_PORT}/{DB_NAME}'\n",
    "    engine = create_engine(conn_string)\n",
    "    # Test connection\n",
    "    with engine.connect() as connection:\n",
    "        print(\"Database connection successful!\")\n",
    "except Exception as e:\n",
    "    print(f\"Database connection failed: {e}\")\n",
    "    raise\n",
    "\n",
    "# Set pandas display options (optional, you already have this later)\n",
    "pd.set_option('display.max_rows', None)"
   ]
  },
  {
   "cell_type": "markdown",
   "metadata": {},
   "source": [
    "# Descriptive Analytics Query (Wikipedia Web Scrape Data)"
   ]
  },
  {
   "cell_type": "markdown",
   "metadata": {},
   "source": [
    "### Business Question:\n"
   ]
  },
  {
   "cell_type": "code",
   "execution_count": 1,
   "metadata": {},
   "outputs": [],
   "source": [
    "# Descriptive Analytics Query for API Data\n",
    "sql_query = '''\n",
    "\n",
    "'''\n"
   ]
  },
  {
   "cell_type": "code",
   "execution_count": 2,
   "metadata": {},
   "outputs": [
    {
     "ename": "NameError",
     "evalue": "name 'pd' is not defined",
     "output_type": "error",
     "traceback": [
      "\u001b[31m---------------------------------------------------------------------------\u001b[39m",
      "\u001b[31mNameError\u001b[39m                                 Traceback (most recent call last)",
      "\u001b[36mCell\u001b[39m\u001b[36m \u001b[39m\u001b[32mIn[2]\u001b[39m\u001b[32m, line 1\u001b[39m\n\u001b[32m----> \u001b[39m\u001b[32m1\u001b[39m api_results = \u001b[43mpd\u001b[49m.read_sql(sql_query, engine)\n\u001b[32m      2\u001b[39m api_results\n",
      "\u001b[31mNameError\u001b[39m: name 'pd' is not defined"
     ]
    }
   ],
   "source": [
    "api_results = pd.read_sql(sql_query, engine)\n",
    "api_results\n"
   ]
  },
  {
   "cell_type": "markdown",
   "metadata": {},
   "source": [
    "### Data Dictionary\n",
    "\n",
    "\n"
   ]
  },
  {
   "cell_type": "markdown",
   "metadata": {},
   "source": [
    "### Analysis:\n",
    "*   **Insight:**\n",
    "*   **Recommendation:** \n",
    "*   **Prediction:** "
   ]
  },
  {
   "cell_type": "markdown",
   "metadata": {},
   "source": [
    "# Diagnostic Analytics Query (Wikipedia Web Scrape Data)"
   ]
  },
  {
   "cell_type": "markdown",
   "metadata": {},
   "source": [
    "### Business Question:\n"
   ]
  },
  {
   "cell_type": "code",
   "execution_count": 3,
   "metadata": {},
   "outputs": [],
   "source": [
    "# Diagnostic Analytics Query for Wikipedia Web Scrape Data\n",
    "sql_query = '''\n",
    "\n",
    "'''\n"
   ]
  },
  {
   "cell_type": "code",
   "execution_count": 4,
   "metadata": {},
   "outputs": [
    {
     "ename": "NameError",
     "evalue": "name 'pd' is not defined",
     "output_type": "error",
     "traceback": [
      "\u001b[31m---------------------------------------------------------------------------\u001b[39m",
      "\u001b[31mNameError\u001b[39m                                 Traceback (most recent call last)",
      "\u001b[36mCell\u001b[39m\u001b[36m \u001b[39m\u001b[32mIn[4]\u001b[39m\u001b[32m, line 2\u001b[39m\n\u001b[32m      1\u001b[39m \u001b[38;5;66;03m# Execute diagnostic query for API data\u001b[39;00m\n\u001b[32m----> \u001b[39m\u001b[32m2\u001b[39m api_diag_results = \u001b[43mpd\u001b[49m.read_sql(sql_query, engine)\n\u001b[32m      3\u001b[39m api_diag_results\n",
      "\u001b[31mNameError\u001b[39m: name 'pd' is not defined"
     ]
    }
   ],
   "source": [
    "# Execute diagnostic query for API data\n",
    "api_diag_results = pd.read_sql(sql_query, engine)\n",
    "api_diag_results"
   ]
  },
  {
   "cell_type": "markdown",
   "metadata": {},
   "source": [
    "### Data Dictionary\n"
   ]
  },
  {
   "cell_type": "markdown",
   "metadata": {},
   "source": [
    "### Analysis:\n",
    "*   **Insight:**\n",
    "*   **Recommendation:** \n",
    "*   **Prediction:** "
   ]
  }
 ],
 "metadata": {
  "kernelspec": {
   "display_name": "Python 3",
   "language": "python",
   "name": "python3"
  },
  "language_info": {
   "codemirror_mode": {
    "name": "ipython",
    "version": 3
   },
   "file_extension": ".py",
   "mimetype": "text/x-python",
   "name": "python",
   "nbconvert_exporter": "python",
   "pygments_lexer": "ipython3",
   "version": "3.13.2"
  }
 },
 "nbformat": 4,
 "nbformat_minor": 2
}
